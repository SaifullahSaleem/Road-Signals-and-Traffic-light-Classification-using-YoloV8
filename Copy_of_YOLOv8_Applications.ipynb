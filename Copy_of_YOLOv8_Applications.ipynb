{
  "nbformat": 4,
  "nbformat_minor": 0,
  "metadata": {
    "colab": {
      "provenance": [],
      "gpuType": "T4"
    },
    "kernelspec": {
      "name": "python3",
      "display_name": "Python 3"
    },
    "language_info": {
      "name": "python"
    },
    "accelerator": "GPU"
  },
  "cells": [
    {
      "cell_type": "code",
      "execution_count": null,
      "metadata": {
        "colab": {
          "base_uri": "https://localhost:8080/"
        },
        "id": "dcoF9PRyirKX",
        "outputId": "da764c6d-9fe6-4093-8e25-f5e70d4bf98c"
      },
      "outputs": [
        {
          "output_type": "stream",
          "name": "stdout",
          "text": [
            "Collecting ultralytics\n",
            "  Downloading ultralytics-8.2.9-py3-none-any.whl (755 kB)\n",
            "\u001b[?25l     \u001b[90m━━━━━━━━━━━━━━━━━━━━━━━━━━━━━━━━━━━━━━━━\u001b[0m \u001b[32m0.0/755.5 kB\u001b[0m \u001b[31m?\u001b[0m eta \u001b[36m-:--:--\u001b[0m\r\u001b[2K     \u001b[91m━━━\u001b[0m\u001b[90m╺\u001b[0m\u001b[90m━━━━━━━━━━━━━━━━━━━━━━━━━━━━━━━━━━━━\u001b[0m \u001b[32m61.4/755.5 kB\u001b[0m \u001b[31m1.8 MB/s\u001b[0m eta \u001b[36m0:00:01\u001b[0m\r\u001b[2K     \u001b[91m━━━━━━━━━━━━━━━━━━━━━━━━━━━━━━━━━━━━━━━\u001b[0m\u001b[91m╸\u001b[0m \u001b[32m747.5/755.5 kB\u001b[0m \u001b[31m12.7 MB/s\u001b[0m eta \u001b[36m0:00:01\u001b[0m\r\u001b[2K     \u001b[90m━━━━━━━━━━━━━━━━━━━━━━━━━━━━━━━━━━━━━━━━\u001b[0m \u001b[32m755.5/755.5 kB\u001b[0m \u001b[31m9.2 MB/s\u001b[0m eta \u001b[36m0:00:00\u001b[0m\n",
            "\u001b[?25hRequirement already satisfied: matplotlib>=3.3.0 in /usr/local/lib/python3.10/dist-packages (from ultralytics) (3.7.1)\n",
            "Requirement already satisfied: opencv-python>=4.6.0 in /usr/local/lib/python3.10/dist-packages (from ultralytics) (4.8.0.76)\n",
            "Requirement already satisfied: pillow>=7.1.2 in /usr/local/lib/python3.10/dist-packages (from ultralytics) (9.4.0)\n",
            "Requirement already satisfied: pyyaml>=5.3.1 in /usr/local/lib/python3.10/dist-packages (from ultralytics) (6.0.1)\n",
            "Requirement already satisfied: requests>=2.23.0 in /usr/local/lib/python3.10/dist-packages (from ultralytics) (2.31.0)\n",
            "Requirement already satisfied: scipy>=1.4.1 in /usr/local/lib/python3.10/dist-packages (from ultralytics) (1.11.4)\n",
            "Requirement already satisfied: torch>=1.8.0 in /usr/local/lib/python3.10/dist-packages (from ultralytics) (2.2.1+cu121)\n",
            "Requirement already satisfied: torchvision>=0.9.0 in /usr/local/lib/python3.10/dist-packages (from ultralytics) (0.17.1+cu121)\n",
            "Requirement already satisfied: tqdm>=4.64.0 in /usr/local/lib/python3.10/dist-packages (from ultralytics) (4.66.2)\n",
            "Requirement already satisfied: psutil in /usr/local/lib/python3.10/dist-packages (from ultralytics) (5.9.5)\n",
            "Requirement already satisfied: py-cpuinfo in /usr/local/lib/python3.10/dist-packages (from ultralytics) (9.0.0)\n",
            "Collecting thop>=0.1.1 (from ultralytics)\n",
            "  Downloading thop-0.1.1.post2209072238-py3-none-any.whl (15 kB)\n",
            "Requirement already satisfied: pandas>=1.1.4 in /usr/local/lib/python3.10/dist-packages (from ultralytics) (2.0.3)\n",
            "Requirement already satisfied: seaborn>=0.11.0 in /usr/local/lib/python3.10/dist-packages (from ultralytics) (0.13.1)\n",
            "Requirement already satisfied: contourpy>=1.0.1 in /usr/local/lib/python3.10/dist-packages (from matplotlib>=3.3.0->ultralytics) (1.2.1)\n",
            "Requirement already satisfied: cycler>=0.10 in /usr/local/lib/python3.10/dist-packages (from matplotlib>=3.3.0->ultralytics) (0.12.1)\n",
            "Requirement already satisfied: fonttools>=4.22.0 in /usr/local/lib/python3.10/dist-packages (from matplotlib>=3.3.0->ultralytics) (4.51.0)\n",
            "Requirement already satisfied: kiwisolver>=1.0.1 in /usr/local/lib/python3.10/dist-packages (from matplotlib>=3.3.0->ultralytics) (1.4.5)\n",
            "Requirement already satisfied: numpy>=1.20 in /usr/local/lib/python3.10/dist-packages (from matplotlib>=3.3.0->ultralytics) (1.25.2)\n",
            "Requirement already satisfied: packaging>=20.0 in /usr/local/lib/python3.10/dist-packages (from matplotlib>=3.3.0->ultralytics) (24.0)\n",
            "Requirement already satisfied: pyparsing>=2.3.1 in /usr/local/lib/python3.10/dist-packages (from matplotlib>=3.3.0->ultralytics) (3.1.2)\n",
            "Requirement already satisfied: python-dateutil>=2.7 in /usr/local/lib/python3.10/dist-packages (from matplotlib>=3.3.0->ultralytics) (2.8.2)\n",
            "Requirement already satisfied: pytz>=2020.1 in /usr/local/lib/python3.10/dist-packages (from pandas>=1.1.4->ultralytics) (2023.4)\n",
            "Requirement already satisfied: tzdata>=2022.1 in /usr/local/lib/python3.10/dist-packages (from pandas>=1.1.4->ultralytics) (2024.1)\n",
            "Requirement already satisfied: charset-normalizer<4,>=2 in /usr/local/lib/python3.10/dist-packages (from requests>=2.23.0->ultralytics) (3.3.2)\n",
            "Requirement already satisfied: idna<4,>=2.5 in /usr/local/lib/python3.10/dist-packages (from requests>=2.23.0->ultralytics) (3.7)\n",
            "Requirement already satisfied: urllib3<3,>=1.21.1 in /usr/local/lib/python3.10/dist-packages (from requests>=2.23.0->ultralytics) (2.0.7)\n",
            "Requirement already satisfied: certifi>=2017.4.17 in /usr/local/lib/python3.10/dist-packages (from requests>=2.23.0->ultralytics) (2024.2.2)\n",
            "Requirement already satisfied: filelock in /usr/local/lib/python3.10/dist-packages (from torch>=1.8.0->ultralytics) (3.14.0)\n",
            "Requirement already satisfied: typing-extensions>=4.8.0 in /usr/local/lib/python3.10/dist-packages (from torch>=1.8.0->ultralytics) (4.11.0)\n",
            "Requirement already satisfied: sympy in /usr/local/lib/python3.10/dist-packages (from torch>=1.8.0->ultralytics) (1.12)\n",
            "Requirement already satisfied: networkx in /usr/local/lib/python3.10/dist-packages (from torch>=1.8.0->ultralytics) (3.3)\n",
            "Requirement already satisfied: jinja2 in /usr/local/lib/python3.10/dist-packages (from torch>=1.8.0->ultralytics) (3.1.3)\n",
            "Requirement already satisfied: fsspec in /usr/local/lib/python3.10/dist-packages (from torch>=1.8.0->ultralytics) (2023.6.0)\n",
            "Collecting nvidia-cuda-nvrtc-cu12==12.1.105 (from torch>=1.8.0->ultralytics)\n",
            "  Using cached nvidia_cuda_nvrtc_cu12-12.1.105-py3-none-manylinux1_x86_64.whl (23.7 MB)\n",
            "Collecting nvidia-cuda-runtime-cu12==12.1.105 (from torch>=1.8.0->ultralytics)\n",
            "  Using cached nvidia_cuda_runtime_cu12-12.1.105-py3-none-manylinux1_x86_64.whl (823 kB)\n",
            "Collecting nvidia-cuda-cupti-cu12==12.1.105 (from torch>=1.8.0->ultralytics)\n",
            "  Using cached nvidia_cuda_cupti_cu12-12.1.105-py3-none-manylinux1_x86_64.whl (14.1 MB)\n",
            "Collecting nvidia-cudnn-cu12==8.9.2.26 (from torch>=1.8.0->ultralytics)\n",
            "  Using cached nvidia_cudnn_cu12-8.9.2.26-py3-none-manylinux1_x86_64.whl (731.7 MB)\n",
            "Collecting nvidia-cublas-cu12==12.1.3.1 (from torch>=1.8.0->ultralytics)\n",
            "  Using cached nvidia_cublas_cu12-12.1.3.1-py3-none-manylinux1_x86_64.whl (410.6 MB)\n",
            "Collecting nvidia-cufft-cu12==11.0.2.54 (from torch>=1.8.0->ultralytics)\n",
            "  Using cached nvidia_cufft_cu12-11.0.2.54-py3-none-manylinux1_x86_64.whl (121.6 MB)\n",
            "Collecting nvidia-curand-cu12==10.3.2.106 (from torch>=1.8.0->ultralytics)\n",
            "  Using cached nvidia_curand_cu12-10.3.2.106-py3-none-manylinux1_x86_64.whl (56.5 MB)\n",
            "Collecting nvidia-cusolver-cu12==11.4.5.107 (from torch>=1.8.0->ultralytics)\n",
            "  Using cached nvidia_cusolver_cu12-11.4.5.107-py3-none-manylinux1_x86_64.whl (124.2 MB)\n",
            "Collecting nvidia-cusparse-cu12==12.1.0.106 (from torch>=1.8.0->ultralytics)\n",
            "  Using cached nvidia_cusparse_cu12-12.1.0.106-py3-none-manylinux1_x86_64.whl (196.0 MB)\n",
            "Collecting nvidia-nccl-cu12==2.19.3 (from torch>=1.8.0->ultralytics)\n",
            "  Using cached nvidia_nccl_cu12-2.19.3-py3-none-manylinux1_x86_64.whl (166.0 MB)\n",
            "Collecting nvidia-nvtx-cu12==12.1.105 (from torch>=1.8.0->ultralytics)\n",
            "  Using cached nvidia_nvtx_cu12-12.1.105-py3-none-manylinux1_x86_64.whl (99 kB)\n",
            "Requirement already satisfied: triton==2.2.0 in /usr/local/lib/python3.10/dist-packages (from torch>=1.8.0->ultralytics) (2.2.0)\n",
            "Collecting nvidia-nvjitlink-cu12 (from nvidia-cusolver-cu12==11.4.5.107->torch>=1.8.0->ultralytics)\n",
            "  Using cached nvidia_nvjitlink_cu12-12.4.127-py3-none-manylinux2014_x86_64.whl (21.1 MB)\n",
            "Requirement already satisfied: six>=1.5 in /usr/local/lib/python3.10/dist-packages (from python-dateutil>=2.7->matplotlib>=3.3.0->ultralytics) (1.16.0)\n",
            "Requirement already satisfied: MarkupSafe>=2.0 in /usr/local/lib/python3.10/dist-packages (from jinja2->torch>=1.8.0->ultralytics) (2.1.5)\n",
            "Requirement already satisfied: mpmath>=0.19 in /usr/local/lib/python3.10/dist-packages (from sympy->torch>=1.8.0->ultralytics) (1.3.0)\n",
            "Installing collected packages: nvidia-nvtx-cu12, nvidia-nvjitlink-cu12, nvidia-nccl-cu12, nvidia-curand-cu12, nvidia-cufft-cu12, nvidia-cuda-runtime-cu12, nvidia-cuda-nvrtc-cu12, nvidia-cuda-cupti-cu12, nvidia-cublas-cu12, nvidia-cusparse-cu12, nvidia-cudnn-cu12, nvidia-cusolver-cu12, thop, ultralytics\n",
            "Successfully installed nvidia-cublas-cu12-12.1.3.1 nvidia-cuda-cupti-cu12-12.1.105 nvidia-cuda-nvrtc-cu12-12.1.105 nvidia-cuda-runtime-cu12-12.1.105 nvidia-cudnn-cu12-8.9.2.26 nvidia-cufft-cu12-11.0.2.54 nvidia-curand-cu12-10.3.2.106 nvidia-cusolver-cu12-11.4.5.107 nvidia-cusparse-cu12-12.1.0.106 nvidia-nccl-cu12-2.19.3 nvidia-nvjitlink-cu12-12.4.127 nvidia-nvtx-cu12-12.1.105 thop-0.1.1.post2209072238 ultralytics-8.2.9\n"
          ]
        }
      ],
      "source": [
        "!pip install ultralytics"
      ]
    },
    {
      "cell_type": "code",
      "source": [
        "from ultralytics import YOLO\n",
        "import cv2"
      ],
      "metadata": {
        "id": "3WUVf_Iai2YV"
      },
      "execution_count": null,
      "outputs": []
    },
    {
      "cell_type": "code",
      "source": [
        "model=YOLO(\"yolov8m.pt\")"
      ],
      "metadata": {
        "id": "7rPB6XEDjC_B"
      },
      "execution_count": null,
      "outputs": []
    },
    {
      "cell_type": "code",
      "source": [
        "# !pip install roboflow\n",
        "\n",
        "from roboflow import Roboflow\n",
        "rf = Roboflow(api_key=\"Ts9UDCWt6OYb79BugwEz\")\n",
        "project = rf.workspace(\"roboflow-100\").project(\"road-signs-6ih4y\")\n",
        "version = project.version(2)\n",
        "dataset = version.download(\"yolov8\")\n"
      ],
      "metadata": {
        "id": "0ObDD4v4VIaL",
        "colab": {
          "base_uri": "https://localhost:8080/"
        },
        "outputId": "38ed5a20-4134-422a-dc88-1d4dea6ebf7b"
      },
      "execution_count": null,
      "outputs": [
        {
          "output_type": "stream",
          "name": "stdout",
          "text": [
            "loading Roboflow workspace...\n",
            "loading Roboflow project...\n",
            "Dependency ultralytics==8.0.196 is required but found version=8.2.9, to fix: `pip install ultralytics==8.0.196`\n"
          ]
        }
      ]
    },
    {
      "cell_type": "code",
      "source": [
        "model.train(data='/content/road-signs-2/data.yaml', epochs=30)"
      ],
      "metadata": {
        "colab": {
          "base_uri": "https://localhost:8080/"
        },
        "id": "5U5Tde7BM6JP",
        "outputId": "309a632b-cda7-4c68-d1bb-9e233799053b"
      },
      "execution_count": null,
      "outputs": [
        {
          "output_type": "stream",
          "name": "stdout",
          "text": [
            "Ultralytics YOLOv8.2.9 🚀 Python-3.10.12 torch-2.2.1+cu121 CUDA:0 (Tesla T4, 15102MiB)\n",
            "\u001b[34m\u001b[1mengine/trainer: \u001b[0mtask=detect, mode=train, model=yolov8m.pt, data=/content/road-signs-2/data.yaml, epochs=30, time=None, patience=100, batch=16, imgsz=640, save=True, save_period=-1, cache=False, device=None, workers=8, project=None, name=train3, exist_ok=False, pretrained=True, optimizer=auto, verbose=True, seed=0, deterministic=True, single_cls=False, rect=False, cos_lr=False, close_mosaic=10, resume=False, amp=True, fraction=1.0, profile=False, freeze=None, multi_scale=False, overlap_mask=True, mask_ratio=4, dropout=0.0, val=True, split=val, save_json=False, save_hybrid=False, conf=None, iou=0.7, max_det=300, half=False, dnn=False, plots=True, source=None, vid_stride=1, stream_buffer=False, visualize=False, augment=False, agnostic_nms=False, classes=None, retina_masks=False, embed=None, show=False, save_frames=False, save_txt=False, save_conf=False, save_crop=False, show_labels=True, show_conf=True, show_boxes=True, line_width=None, format=torchscript, keras=False, optimize=False, int8=False, dynamic=False, simplify=False, opset=None, workspace=4, nms=False, lr0=0.01, lrf=0.01, momentum=0.937, weight_decay=0.0005, warmup_epochs=3.0, warmup_momentum=0.8, warmup_bias_lr=0.1, box=7.5, cls=0.5, dfl=1.5, pose=12.0, kobj=1.0, label_smoothing=0.0, nbs=64, hsv_h=0.015, hsv_s=0.7, hsv_v=0.4, degrees=0.0, translate=0.1, scale=0.5, shear=0.0, perspective=0.0, flipud=0.0, fliplr=0.5, bgr=0.0, mosaic=1.0, mixup=0.0, copy_paste=0.0, auto_augment=randaugment, erasing=0.4, crop_fraction=1.0, cfg=None, tracker=botsort.yaml, save_dir=runs/detect/train3\n",
            "Downloading https://ultralytics.com/assets/Arial.ttf to '/root/.config/Ultralytics/Arial.ttf'...\n"
          ]
        },
        {
          "output_type": "stream",
          "name": "stderr",
          "text": [
            "100%|██████████| 755k/755k [00:00<00:00, 129MB/s]\n"
          ]
        },
        {
          "output_type": "stream",
          "name": "stdout",
          "text": [
            "Overriding model.yaml nc=80 with nc=21\n",
            "\n",
            "                   from  n    params  module                                       arguments                     \n",
            "  0                  -1  1      1392  ultralytics.nn.modules.conv.Conv             [3, 48, 3, 2]                 \n",
            "  1                  -1  1     41664  ultralytics.nn.modules.conv.Conv             [48, 96, 3, 2]                \n",
            "  2                  -1  2    111360  ultralytics.nn.modules.block.C2f             [96, 96, 2, True]             \n",
            "  3                  -1  1    166272  ultralytics.nn.modules.conv.Conv             [96, 192, 3, 2]               \n",
            "  4                  -1  4    813312  ultralytics.nn.modules.block.C2f             [192, 192, 4, True]           \n",
            "  5                  -1  1    664320  ultralytics.nn.modules.conv.Conv             [192, 384, 3, 2]              \n",
            "  6                  -1  4   3248640  ultralytics.nn.modules.block.C2f             [384, 384, 4, True]           \n",
            "  7                  -1  1   1991808  ultralytics.nn.modules.conv.Conv             [384, 576, 3, 2]              \n",
            "  8                  -1  2   3985920  ultralytics.nn.modules.block.C2f             [576, 576, 2, True]           \n",
            "  9                  -1  1    831168  ultralytics.nn.modules.block.SPPF            [576, 576, 5]                 \n",
            " 10                  -1  1         0  torch.nn.modules.upsampling.Upsample         [None, 2, 'nearest']          \n",
            " 11             [-1, 6]  1         0  ultralytics.nn.modules.conv.Concat           [1]                           \n",
            " 12                  -1  2   1993728  ultralytics.nn.modules.block.C2f             [960, 384, 2]                 \n",
            " 13                  -1  1         0  torch.nn.modules.upsampling.Upsample         [None, 2, 'nearest']          \n",
            " 14             [-1, 4]  1         0  ultralytics.nn.modules.conv.Concat           [1]                           \n",
            " 15                  -1  2    517632  ultralytics.nn.modules.block.C2f             [576, 192, 2]                 \n",
            " 16                  -1  1    332160  ultralytics.nn.modules.conv.Conv             [192, 192, 3, 2]              \n",
            " 17            [-1, 12]  1         0  ultralytics.nn.modules.conv.Concat           [1]                           \n",
            " 18                  -1  2   1846272  ultralytics.nn.modules.block.C2f             [576, 384, 2]                 \n",
            " 19                  -1  1   1327872  ultralytics.nn.modules.conv.Conv             [384, 384, 3, 2]              \n",
            " 20             [-1, 9]  1         0  ultralytics.nn.modules.conv.Concat           [1]                           \n",
            " 21                  -1  2   4207104  ultralytics.nn.modules.block.C2f             [960, 576, 2]                 \n",
            " 22        [15, 18, 21]  1   3787855  ultralytics.nn.modules.head.Detect           [21, [192, 384, 576]]         \n",
            "Model summary: 295 layers, 25868479 parameters, 25868463 gradients, 79.1 GFLOPs\n",
            "\n",
            "Transferred 469/475 items from pretrained weights\n",
            "\u001b[34m\u001b[1mTensorBoard: \u001b[0mStart with 'tensorboard --logdir runs/detect/train3', view at http://localhost:6006/\n",
            "Freezing layer 'model.22.dfl.conv.weight'\n",
            "\u001b[34m\u001b[1mAMP: \u001b[0mrunning Automatic Mixed Precision (AMP) checks with YOLOv8n...\n",
            "Downloading https://github.com/ultralytics/assets/releases/download/v8.2.0/yolov8n.pt to 'yolov8n.pt'...\n"
          ]
        },
        {
          "output_type": "stream",
          "name": "stderr",
          "text": [
            "100%|██████████| 6.23M/6.23M [00:00<00:00, 260MB/s]\n"
          ]
        },
        {
          "output_type": "stream",
          "name": "stdout",
          "text": [
            "\u001b[34m\u001b[1mAMP: \u001b[0mchecks passed ✅\n"
          ]
        },
        {
          "output_type": "stream",
          "name": "stderr",
          "text": [
            "\u001b[34m\u001b[1mtrain: \u001b[0mScanning /content/road-signs-2/train/labels... 1376 images, 0 backgrounds, 0 corrupt: 100%|██████████| 1376/1376 [00:00<00:00, 1994.67it/s]\n"
          ]
        },
        {
          "output_type": "stream",
          "name": "stdout",
          "text": [
            "\u001b[34m\u001b[1mtrain: \u001b[0mNew cache created: /content/road-signs-2/train/labels.cache\n",
            "\u001b[34m\u001b[1malbumentations: \u001b[0mBlur(p=0.01, blur_limit=(3, 7)), MedianBlur(p=0.01, blur_limit=(3, 7)), ToGray(p=0.01), CLAHE(p=0.01, clip_limit=(1, 4.0), tile_grid_size=(8, 8))\n"
          ]
        },
        {
          "output_type": "stream",
          "name": "stderr",
          "text": [
            "os.fork() was called. os.fork() is incompatible with multithreaded code, and JAX is multithreaded, so this will likely lead to a deadlock.\n",
            "\u001b[34m\u001b[1mval: \u001b[0mScanning /content/road-signs-2/valid/labels... 488 images, 0 backgrounds, 0 corrupt: 100%|██████████| 488/488 [00:00<00:00, 1511.03it/s]"
          ]
        },
        {
          "output_type": "stream",
          "name": "stdout",
          "text": [
            "\u001b[34m\u001b[1mval: \u001b[0mNew cache created: /content/road-signs-2/valid/labels.cache\n"
          ]
        },
        {
          "output_type": "stream",
          "name": "stderr",
          "text": [
            "\n"
          ]
        },
        {
          "output_type": "stream",
          "name": "stdout",
          "text": [
            "Plotting labels to runs/detect/train3/labels.jpg... \n",
            "\u001b[34m\u001b[1moptimizer:\u001b[0m 'optimizer=auto' found, ignoring 'lr0=0.01' and 'momentum=0.937' and determining best 'optimizer', 'lr0' and 'momentum' automatically... \n",
            "\u001b[34m\u001b[1moptimizer:\u001b[0m AdamW(lr=0.0004, momentum=0.9) with parameter groups 77 weight(decay=0.0), 84 weight(decay=0.0005), 83 bias(decay=0.0)\n",
            "\u001b[34m\u001b[1mTensorBoard: \u001b[0mmodel graph visualization added ✅\n",
            "Image sizes 640 train, 640 val\n",
            "Using 2 dataloader workers\n",
            "Logging results to \u001b[1mruns/detect/train3\u001b[0m\n",
            "Starting training for 30 epochs...\n",
            "\n",
            "      Epoch    GPU_mem   box_loss   cls_loss   dfl_loss  Instances       Size\n"
          ]
        },
        {
          "output_type": "stream",
          "name": "stderr",
          "text": [
            "       1/30      7.23G      1.032      3.126      1.298         24        640: 100%|██████████| 86/86 [00:46<00:00,  1.86it/s]\n",
            "                 Class     Images  Instances      Box(P          R      mAP50  mAP50-95): 100%|██████████| 16/16 [00:09<00:00,  1.71it/s]"
          ]
        },
        {
          "output_type": "stream",
          "name": "stdout",
          "text": [
            "                   all        488        529      0.481      0.578      0.537        0.4\n"
          ]
        },
        {
          "output_type": "stream",
          "name": "stderr",
          "text": [
            "\n"
          ]
        },
        {
          "output_type": "stream",
          "name": "stdout",
          "text": [
            "\n",
            "      Epoch    GPU_mem   box_loss   cls_loss   dfl_loss  Instances       Size\n"
          ]
        },
        {
          "output_type": "stream",
          "name": "stderr",
          "text": [
            "       2/30      7.17G      0.944      1.747       1.17         31        640: 100%|██████████| 86/86 [00:44<00:00,  1.95it/s]\n",
            "                 Class     Images  Instances      Box(P          R      mAP50  mAP50-95): 100%|██████████| 16/16 [00:07<00:00,  2.25it/s]\n"
          ]
        },
        {
          "output_type": "stream",
          "name": "stdout",
          "text": [
            "                   all        488        529       0.66      0.621      0.671      0.519\n",
            "\n",
            "      Epoch    GPU_mem   box_loss   cls_loss   dfl_loss  Instances       Size\n"
          ]
        },
        {
          "output_type": "stream",
          "name": "stderr",
          "text": [
            "       3/30      7.17G     0.9393      1.463      1.147         28        640: 100%|██████████| 86/86 [00:44<00:00,  1.95it/s]\n",
            "                 Class     Images  Instances      Box(P          R      mAP50  mAP50-95): 100%|██████████| 16/16 [00:07<00:00,  2.20it/s]"
          ]
        },
        {
          "output_type": "stream",
          "name": "stdout",
          "text": [
            "                   all        488        529       0.72      0.653      0.752      0.577\n"
          ]
        },
        {
          "output_type": "stream",
          "name": "stderr",
          "text": [
            "\n"
          ]
        },
        {
          "output_type": "stream",
          "name": "stdout",
          "text": [
            "\n",
            "      Epoch    GPU_mem   box_loss   cls_loss   dfl_loss  Instances       Size\n"
          ]
        },
        {
          "output_type": "stream",
          "name": "stderr",
          "text": [
            "       4/30      7.16G     0.9252      1.294      1.142         33        640: 100%|██████████| 86/86 [00:44<00:00,  1.95it/s]\n",
            "                 Class     Images  Instances      Box(P          R      mAP50  mAP50-95): 100%|██████████| 16/16 [00:08<00:00,  1.99it/s]"
          ]
        },
        {
          "output_type": "stream",
          "name": "stdout",
          "text": [
            "                   all        488        529      0.791      0.739       0.82      0.641\n"
          ]
        },
        {
          "output_type": "stream",
          "name": "stderr",
          "text": [
            "\n"
          ]
        },
        {
          "output_type": "stream",
          "name": "stdout",
          "text": [
            "\n",
            "      Epoch    GPU_mem   box_loss   cls_loss   dfl_loss  Instances       Size\n"
          ]
        },
        {
          "output_type": "stream",
          "name": "stderr",
          "text": [
            "       5/30      7.16G     0.8997      1.125      1.128         37        640: 100%|██████████| 86/86 [00:44<00:00,  1.92it/s]\n",
            "                 Class     Images  Instances      Box(P          R      mAP50  mAP50-95): 100%|██████████| 16/16 [00:07<00:00,  2.22it/s]"
          ]
        },
        {
          "output_type": "stream",
          "name": "stdout",
          "text": [
            "                   all        488        529      0.788      0.801      0.837       0.64\n"
          ]
        },
        {
          "output_type": "stream",
          "name": "stderr",
          "text": [
            "\n"
          ]
        },
        {
          "output_type": "stream",
          "name": "stdout",
          "text": [
            "\n",
            "      Epoch    GPU_mem   box_loss   cls_loss   dfl_loss  Instances       Size\n"
          ]
        },
        {
          "output_type": "stream",
          "name": "stderr",
          "text": [
            "       6/30      7.15G     0.8738      1.037      1.103         31        640: 100%|██████████| 86/86 [00:44<00:00,  1.95it/s]\n",
            "                 Class     Images  Instances      Box(P          R      mAP50  mAP50-95): 100%|██████████| 16/16 [00:07<00:00,  2.10it/s]"
          ]
        },
        {
          "output_type": "stream",
          "name": "stdout",
          "text": [
            "                   all        488        529      0.807      0.833      0.872      0.702\n"
          ]
        },
        {
          "output_type": "stream",
          "name": "stderr",
          "text": [
            "\n"
          ]
        },
        {
          "output_type": "stream",
          "name": "stdout",
          "text": [
            "\n",
            "      Epoch    GPU_mem   box_loss   cls_loss   dfl_loss  Instances       Size\n"
          ]
        },
        {
          "output_type": "stream",
          "name": "stderr",
          "text": [
            "       7/30      7.14G     0.8521     0.9759      1.082         28        640: 100%|██████████| 86/86 [00:44<00:00,  1.92it/s]\n",
            "                 Class     Images  Instances      Box(P          R      mAP50  mAP50-95): 100%|██████████| 16/16 [00:07<00:00,  2.22it/s]"
          ]
        },
        {
          "output_type": "stream",
          "name": "stdout",
          "text": [
            "                   all        488        529       0.81      0.832      0.882      0.715\n"
          ]
        },
        {
          "output_type": "stream",
          "name": "stderr",
          "text": [
            "\n"
          ]
        },
        {
          "output_type": "stream",
          "name": "stdout",
          "text": [
            "\n",
            "      Epoch    GPU_mem   box_loss   cls_loss   dfl_loss  Instances       Size\n"
          ]
        },
        {
          "output_type": "stream",
          "name": "stderr",
          "text": [
            "       8/30      7.14G     0.8507     0.9024      1.092         28        640: 100%|██████████| 86/86 [00:44<00:00,  1.93it/s]\n",
            "                 Class     Images  Instances      Box(P          R      mAP50  mAP50-95): 100%|██████████| 16/16 [00:07<00:00,  2.15it/s]"
          ]
        },
        {
          "output_type": "stream",
          "name": "stdout",
          "text": [
            "                   all        488        529      0.866      0.838      0.908      0.723\n"
          ]
        },
        {
          "output_type": "stream",
          "name": "stderr",
          "text": [
            "\n"
          ]
        },
        {
          "output_type": "stream",
          "name": "stdout",
          "text": [
            "\n",
            "      Epoch    GPU_mem   box_loss   cls_loss   dfl_loss  Instances       Size\n"
          ]
        },
        {
          "output_type": "stream",
          "name": "stderr",
          "text": [
            "       9/30      7.15G     0.8024     0.8404      1.053         31        640: 100%|██████████| 86/86 [00:44<00:00,  1.93it/s]\n",
            "                 Class     Images  Instances      Box(P          R      mAP50  mAP50-95): 100%|██████████| 16/16 [00:07<00:00,  2.22it/s]"
          ]
        },
        {
          "output_type": "stream",
          "name": "stdout",
          "text": [
            "                   all        488        529      0.876      0.838      0.918      0.744\n"
          ]
        },
        {
          "output_type": "stream",
          "name": "stderr",
          "text": [
            "\n"
          ]
        },
        {
          "output_type": "stream",
          "name": "stdout",
          "text": [
            "\n",
            "      Epoch    GPU_mem   box_loss   cls_loss   dfl_loss  Instances       Size\n"
          ]
        },
        {
          "output_type": "stream",
          "name": "stderr",
          "text": [
            "      10/30      7.16G     0.8062     0.8191      1.064         27        640: 100%|██████████| 86/86 [00:44<00:00,  1.94it/s]\n",
            "                 Class     Images  Instances      Box(P          R      mAP50  mAP50-95): 100%|██████████| 16/16 [00:07<00:00,  2.07it/s]"
          ]
        },
        {
          "output_type": "stream",
          "name": "stdout",
          "text": [
            "                   all        488        529      0.895      0.821      0.903      0.731\n"
          ]
        },
        {
          "output_type": "stream",
          "name": "stderr",
          "text": [
            "\n"
          ]
        },
        {
          "output_type": "stream",
          "name": "stdout",
          "text": [
            "\n",
            "      Epoch    GPU_mem   box_loss   cls_loss   dfl_loss  Instances       Size\n"
          ]
        },
        {
          "output_type": "stream",
          "name": "stderr",
          "text": [
            "      11/30      7.14G     0.8018     0.8039       1.06         22        640: 100%|██████████| 86/86 [00:44<00:00,  1.93it/s]\n",
            "                 Class     Images  Instances      Box(P          R      mAP50  mAP50-95): 100%|██████████| 16/16 [00:07<00:00,  2.03it/s]"
          ]
        },
        {
          "output_type": "stream",
          "name": "stdout",
          "text": [
            "                   all        488        529      0.897      0.856      0.911      0.753\n"
          ]
        },
        {
          "output_type": "stream",
          "name": "stderr",
          "text": [
            "\n"
          ]
        },
        {
          "output_type": "stream",
          "name": "stdout",
          "text": [
            "\n",
            "      Epoch    GPU_mem   box_loss   cls_loss   dfl_loss  Instances       Size\n"
          ]
        },
        {
          "output_type": "stream",
          "name": "stderr",
          "text": [
            "      12/30      7.15G     0.7728     0.7295       1.04         33        640: 100%|██████████| 86/86 [00:43<00:00,  1.95it/s]\n",
            "                 Class     Images  Instances      Box(P          R      mAP50  mAP50-95): 100%|██████████| 16/16 [00:07<00:00,  2.08it/s]"
          ]
        },
        {
          "output_type": "stream",
          "name": "stdout",
          "text": [
            "                   all        488        529      0.927      0.893      0.938      0.766\n"
          ]
        },
        {
          "output_type": "stream",
          "name": "stderr",
          "text": [
            "\n"
          ]
        },
        {
          "output_type": "stream",
          "name": "stdout",
          "text": [
            "\n",
            "      Epoch    GPU_mem   box_loss   cls_loss   dfl_loss  Instances       Size\n"
          ]
        },
        {
          "output_type": "stream",
          "name": "stderr",
          "text": [
            "      13/30      7.14G     0.7586     0.6983      1.038         41        640: 100%|██████████| 86/86 [00:44<00:00,  1.94it/s]\n",
            "                 Class     Images  Instances      Box(P          R      mAP50  mAP50-95): 100%|██████████| 16/16 [00:07<00:00,  2.19it/s]"
          ]
        },
        {
          "output_type": "stream",
          "name": "stdout",
          "text": [
            "                   all        488        529      0.927      0.902       0.95      0.781\n"
          ]
        },
        {
          "output_type": "stream",
          "name": "stderr",
          "text": [
            "\n"
          ]
        },
        {
          "output_type": "stream",
          "name": "stdout",
          "text": [
            "\n",
            "      Epoch    GPU_mem   box_loss   cls_loss   dfl_loss  Instances       Size\n"
          ]
        },
        {
          "output_type": "stream",
          "name": "stderr",
          "text": [
            "      14/30      7.14G     0.7378     0.6653      1.034         39        640: 100%|██████████| 86/86 [00:44<00:00,  1.93it/s]\n",
            "                 Class     Images  Instances      Box(P          R      mAP50  mAP50-95): 100%|██████████| 16/16 [00:07<00:00,  2.23it/s]"
          ]
        },
        {
          "output_type": "stream",
          "name": "stdout",
          "text": [
            "                   all        488        529      0.904      0.895      0.931      0.778\n"
          ]
        },
        {
          "output_type": "stream",
          "name": "stderr",
          "text": [
            "\n"
          ]
        },
        {
          "output_type": "stream",
          "name": "stdout",
          "text": [
            "\n",
            "      Epoch    GPU_mem   box_loss   cls_loss   dfl_loss  Instances       Size\n"
          ]
        },
        {
          "output_type": "stream",
          "name": "stderr",
          "text": [
            "      15/30      7.14G     0.7309     0.6731       1.03         39        640: 100%|██████████| 86/86 [00:44<00:00,  1.94it/s]\n",
            "                 Class     Images  Instances      Box(P          R      mAP50  mAP50-95): 100%|██████████| 16/16 [00:07<00:00,  2.19it/s]"
          ]
        },
        {
          "output_type": "stream",
          "name": "stdout",
          "text": [
            "                   all        488        529      0.909      0.894      0.942      0.774\n"
          ]
        },
        {
          "output_type": "stream",
          "name": "stderr",
          "text": [
            "\n"
          ]
        },
        {
          "output_type": "stream",
          "name": "stdout",
          "text": [
            "\n",
            "      Epoch    GPU_mem   box_loss   cls_loss   dfl_loss  Instances       Size\n"
          ]
        },
        {
          "output_type": "stream",
          "name": "stderr",
          "text": [
            "      16/30      7.14G     0.7204     0.6293       1.02         36        640: 100%|██████████| 86/86 [00:44<00:00,  1.94it/s]\n",
            "                 Class     Images  Instances      Box(P          R      mAP50  mAP50-95): 100%|██████████| 16/16 [00:07<00:00,  2.25it/s]"
          ]
        },
        {
          "output_type": "stream",
          "name": "stdout",
          "text": [
            "                   all        488        529      0.937      0.912      0.952      0.786\n"
          ]
        },
        {
          "output_type": "stream",
          "name": "stderr",
          "text": [
            "\n"
          ]
        },
        {
          "output_type": "stream",
          "name": "stdout",
          "text": [
            "\n",
            "      Epoch    GPU_mem   box_loss   cls_loss   dfl_loss  Instances       Size\n"
          ]
        },
        {
          "output_type": "stream",
          "name": "stderr",
          "text": [
            "      17/30      7.14G     0.7233     0.6046      1.028         35        640: 100%|██████████| 86/86 [00:44<00:00,  1.95it/s]\n",
            "                 Class     Images  Instances      Box(P          R      mAP50  mAP50-95): 100%|██████████| 16/16 [00:07<00:00,  2.10it/s]"
          ]
        },
        {
          "output_type": "stream",
          "name": "stdout",
          "text": [
            "                   all        488        529      0.955      0.922       0.96      0.798\n"
          ]
        },
        {
          "output_type": "stream",
          "name": "stderr",
          "text": [
            "\n"
          ]
        },
        {
          "output_type": "stream",
          "name": "stdout",
          "text": [
            "\n",
            "      Epoch    GPU_mem   box_loss   cls_loss   dfl_loss  Instances       Size\n"
          ]
        },
        {
          "output_type": "stream",
          "name": "stderr",
          "text": [
            "      18/30      7.14G     0.7154     0.6079      1.014         26        640: 100%|██████████| 86/86 [00:44<00:00,  1.93it/s]\n",
            "                 Class     Images  Instances      Box(P          R      mAP50  mAP50-95): 100%|██████████| 16/16 [00:07<00:00,  2.28it/s]"
          ]
        },
        {
          "output_type": "stream",
          "name": "stdout",
          "text": [
            "                   all        488        529      0.927      0.924      0.953      0.797\n"
          ]
        },
        {
          "output_type": "stream",
          "name": "stderr",
          "text": [
            "\n"
          ]
        },
        {
          "output_type": "stream",
          "name": "stdout",
          "text": [
            "\n",
            "      Epoch    GPU_mem   box_loss   cls_loss   dfl_loss  Instances       Size\n"
          ]
        },
        {
          "output_type": "stream",
          "name": "stderr",
          "text": [
            "      19/30      7.14G     0.6849     0.5764      1.004         31        640: 100%|██████████| 86/86 [00:44<00:00,  1.95it/s]\n",
            "                 Class     Images  Instances      Box(P          R      mAP50  mAP50-95): 100%|██████████| 16/16 [00:07<00:00,  2.08it/s]"
          ]
        },
        {
          "output_type": "stream",
          "name": "stdout",
          "text": [
            "                   all        488        529      0.939      0.928      0.954      0.799\n"
          ]
        },
        {
          "output_type": "stream",
          "name": "stderr",
          "text": [
            "\n"
          ]
        },
        {
          "output_type": "stream",
          "name": "stdout",
          "text": [
            "\n",
            "      Epoch    GPU_mem   box_loss   cls_loss   dfl_loss  Instances       Size\n"
          ]
        },
        {
          "output_type": "stream",
          "name": "stderr",
          "text": [
            "      20/30      7.14G     0.6947     0.5615      1.005         29        640: 100%|██████████| 86/86 [00:44<00:00,  1.95it/s]\n",
            "                 Class     Images  Instances      Box(P          R      mAP50  mAP50-95): 100%|██████████| 16/16 [00:07<00:00,  2.09it/s]"
          ]
        },
        {
          "output_type": "stream",
          "name": "stdout",
          "text": [
            "                   all        488        529      0.944      0.933      0.962      0.802\n"
          ]
        },
        {
          "output_type": "stream",
          "name": "stderr",
          "text": [
            "\n"
          ]
        },
        {
          "output_type": "stream",
          "name": "stdout",
          "text": [
            "Closing dataloader mosaic\n",
            "\u001b[34m\u001b[1malbumentations: \u001b[0mBlur(p=0.01, blur_limit=(3, 7)), MedianBlur(p=0.01, blur_limit=(3, 7)), ToGray(p=0.01), CLAHE(p=0.01, clip_limit=(1, 4.0), tile_grid_size=(8, 8))\n"
          ]
        },
        {
          "output_type": "stream",
          "name": "stderr",
          "text": [
            "os.fork() was called. os.fork() is incompatible with multithreaded code, and JAX is multithreaded, so this will likely lead to a deadlock.\n"
          ]
        },
        {
          "output_type": "stream",
          "name": "stdout",
          "text": [
            "\n",
            "      Epoch    GPU_mem   box_loss   cls_loss   dfl_loss  Instances       Size\n"
          ]
        },
        {
          "output_type": "stream",
          "name": "stderr",
          "text": [
            "      21/30      7.14G      0.609     0.4024     0.9543         16        640: 100%|██████████| 86/86 [00:45<00:00,  1.89it/s]\n",
            "                 Class     Images  Instances      Box(P          R      mAP50  mAP50-95): 100%|██████████| 16/16 [00:07<00:00,  2.12it/s]"
          ]
        },
        {
          "output_type": "stream",
          "name": "stdout",
          "text": [
            "                   all        488        529      0.926      0.939      0.971      0.817\n"
          ]
        },
        {
          "output_type": "stream",
          "name": "stderr",
          "text": [
            "\n"
          ]
        },
        {
          "output_type": "stream",
          "name": "stdout",
          "text": [
            "\n",
            "      Epoch    GPU_mem   box_loss   cls_loss   dfl_loss  Instances       Size\n"
          ]
        },
        {
          "output_type": "stream",
          "name": "stderr",
          "text": [
            "      22/30      7.15G     0.5992     0.3723     0.9506         16        640: 100%|██████████| 86/86 [00:43<00:00,  1.96it/s]\n",
            "                 Class     Images  Instances      Box(P          R      mAP50  mAP50-95): 100%|██████████| 16/16 [00:07<00:00,  2.19it/s]"
          ]
        },
        {
          "output_type": "stream",
          "name": "stdout",
          "text": [
            "                   all        488        529      0.956      0.929      0.968      0.823\n"
          ]
        },
        {
          "output_type": "stream",
          "name": "stderr",
          "text": [
            "\n"
          ]
        },
        {
          "output_type": "stream",
          "name": "stdout",
          "text": [
            "\n",
            "      Epoch    GPU_mem   box_loss   cls_loss   dfl_loss  Instances       Size\n"
          ]
        },
        {
          "output_type": "stream",
          "name": "stderr",
          "text": [
            "      23/30      7.14G     0.5782     0.3468     0.9394         18        640: 100%|██████████| 86/86 [00:44<00:00,  1.95it/s]\n",
            "                 Class     Images  Instances      Box(P          R      mAP50  mAP50-95): 100%|██████████| 16/16 [00:07<00:00,  2.25it/s]"
          ]
        },
        {
          "output_type": "stream",
          "name": "stdout",
          "text": [
            "                   all        488        529      0.942      0.937      0.965      0.813\n"
          ]
        },
        {
          "output_type": "stream",
          "name": "stderr",
          "text": [
            "\n"
          ]
        },
        {
          "output_type": "stream",
          "name": "stdout",
          "text": [
            "\n",
            "      Epoch    GPU_mem   box_loss   cls_loss   dfl_loss  Instances       Size\n"
          ]
        },
        {
          "output_type": "stream",
          "name": "stderr",
          "text": [
            "      24/30      7.15G     0.5607     0.3318      0.922         20        640: 100%|██████████| 86/86 [00:44<00:00,  1.95it/s]\n",
            "                 Class     Images  Instances      Box(P          R      mAP50  mAP50-95): 100%|██████████| 16/16 [00:07<00:00,  2.23it/s]"
          ]
        },
        {
          "output_type": "stream",
          "name": "stdout",
          "text": [
            "                   all        488        529      0.959      0.944      0.969      0.819\n"
          ]
        },
        {
          "output_type": "stream",
          "name": "stderr",
          "text": [
            "\n"
          ]
        },
        {
          "output_type": "stream",
          "name": "stdout",
          "text": [
            "\n",
            "      Epoch    GPU_mem   box_loss   cls_loss   dfl_loss  Instances       Size\n"
          ]
        },
        {
          "output_type": "stream",
          "name": "stderr",
          "text": [
            "      25/30      7.14G      0.554     0.3224     0.9248         17        640: 100%|██████████| 86/86 [00:44<00:00,  1.95it/s]\n",
            "                 Class     Images  Instances      Box(P          R      mAP50  mAP50-95): 100%|██████████| 16/16 [00:07<00:00,  2.24it/s]"
          ]
        },
        {
          "output_type": "stream",
          "name": "stdout",
          "text": [
            "                   all        488        529      0.954      0.939      0.973      0.817\n"
          ]
        },
        {
          "output_type": "stream",
          "name": "stderr",
          "text": [
            "\n"
          ]
        },
        {
          "output_type": "stream",
          "name": "stdout",
          "text": [
            "\n",
            "      Epoch    GPU_mem   box_loss   cls_loss   dfl_loss  Instances       Size\n"
          ]
        },
        {
          "output_type": "stream",
          "name": "stderr",
          "text": [
            "      26/30      7.14G     0.5379     0.3216     0.9234         18        640: 100%|██████████| 86/86 [00:43<00:00,  1.96it/s]\n",
            "                 Class     Images  Instances      Box(P          R      mAP50  mAP50-95): 100%|██████████| 16/16 [00:07<00:00,  2.25it/s]"
          ]
        },
        {
          "output_type": "stream",
          "name": "stdout",
          "text": [
            "                   all        488        529      0.937      0.946      0.972      0.827\n"
          ]
        },
        {
          "output_type": "stream",
          "name": "stderr",
          "text": [
            "\n"
          ]
        },
        {
          "output_type": "stream",
          "name": "stdout",
          "text": [
            "\n",
            "      Epoch    GPU_mem   box_loss   cls_loss   dfl_loss  Instances       Size\n"
          ]
        },
        {
          "output_type": "stream",
          "name": "stderr",
          "text": [
            "      27/30      7.15G     0.5259        0.3     0.8998         17        640: 100%|██████████| 86/86 [00:44<00:00,  1.95it/s]\n",
            "                 Class     Images  Instances      Box(P          R      mAP50  mAP50-95): 100%|██████████| 16/16 [00:07<00:00,  2.24it/s]"
          ]
        },
        {
          "output_type": "stream",
          "name": "stdout",
          "text": [
            "                   all        488        529      0.967      0.935      0.976      0.828\n"
          ]
        },
        {
          "output_type": "stream",
          "name": "stderr",
          "text": [
            "\n"
          ]
        },
        {
          "output_type": "stream",
          "name": "stdout",
          "text": [
            "\n",
            "      Epoch    GPU_mem   box_loss   cls_loss   dfl_loss  Instances       Size\n"
          ]
        },
        {
          "output_type": "stream",
          "name": "stderr",
          "text": [
            "      28/30      7.15G     0.5082     0.2902     0.9035         16        640: 100%|██████████| 86/86 [00:43<00:00,  1.96it/s]\n",
            "                 Class     Images  Instances      Box(P          R      mAP50  mAP50-95): 100%|██████████| 16/16 [00:07<00:00,  2.06it/s]"
          ]
        },
        {
          "output_type": "stream",
          "name": "stdout",
          "text": [
            "                   all        488        529      0.957      0.931      0.975      0.827\n"
          ]
        },
        {
          "output_type": "stream",
          "name": "stderr",
          "text": [
            "\n"
          ]
        },
        {
          "output_type": "stream",
          "name": "stdout",
          "text": [
            "\n",
            "      Epoch    GPU_mem   box_loss   cls_loss   dfl_loss  Instances       Size\n"
          ]
        },
        {
          "output_type": "stream",
          "name": "stderr",
          "text": [
            "      29/30      7.14G     0.4966     0.2769     0.8915         17        640: 100%|██████████| 86/86 [00:43<00:00,  1.97it/s]\n",
            "                 Class     Images  Instances      Box(P          R      mAP50  mAP50-95): 100%|██████████| 16/16 [00:07<00:00,  2.04it/s]"
          ]
        },
        {
          "output_type": "stream",
          "name": "stdout",
          "text": [
            "                   all        488        529      0.941      0.949      0.976      0.826\n"
          ]
        },
        {
          "output_type": "stream",
          "name": "stderr",
          "text": [
            "\n"
          ]
        },
        {
          "output_type": "stream",
          "name": "stdout",
          "text": [
            "\n",
            "      Epoch    GPU_mem   box_loss   cls_loss   dfl_loss  Instances       Size\n"
          ]
        },
        {
          "output_type": "stream",
          "name": "stderr",
          "text": [
            "      30/30      7.14G     0.4873     0.2646     0.8925         19        640: 100%|██████████| 86/86 [00:43<00:00,  1.98it/s]\n",
            "                 Class     Images  Instances      Box(P          R      mAP50  mAP50-95): 100%|██████████| 16/16 [00:07<00:00,  2.06it/s]"
          ]
        },
        {
          "output_type": "stream",
          "name": "stdout",
          "text": [
            "                   all        488        529       0.94      0.947      0.975      0.828\n"
          ]
        },
        {
          "output_type": "stream",
          "name": "stderr",
          "text": [
            "\n"
          ]
        },
        {
          "output_type": "stream",
          "name": "stdout",
          "text": [
            "\n",
            "30 epochs completed in 0.458 hours.\n",
            "Optimizer stripped from runs/detect/train3/weights/last.pt, 52.1MB\n",
            "Optimizer stripped from runs/detect/train3/weights/best.pt, 52.1MB\n",
            "\n",
            "Validating runs/detect/train3/weights/best.pt...\n",
            "Ultralytics YOLOv8.2.9 🚀 Python-3.10.12 torch-2.2.1+cu121 CUDA:0 (Tesla T4, 15102MiB)\n",
            "Model summary (fused): 218 layers, 25851919 parameters, 0 gradients, 78.8 GFLOPs\n"
          ]
        },
        {
          "output_type": "stream",
          "name": "stderr",
          "text": [
            "                 Class     Images  Instances      Box(P          R      mAP50  mAP50-95): 100%|██████████| 16/16 [00:10<00:00,  1.50it/s]\n"
          ]
        },
        {
          "output_type": "stream",
          "name": "stdout",
          "text": [
            "                   all        488        529      0.967      0.935      0.976      0.828\n",
            "          do_not_enter        488         30      0.952          1      0.994      0.936\n",
            "           do_not_stop        488         30      0.952      0.933      0.968       0.89\n",
            "         do_not_turn_l        488         34       0.99          1      0.995      0.898\n",
            "         do_not_turn_r        488         31          1      0.951      0.986      0.922\n",
            "         do_not_u_turn        488         30      0.992      0.933      0.975      0.844\n",
            "       enter_left_lane        488         30      0.957          1       0.98       0.87\n",
            "           green_light        488         47          1      0.919      0.983      0.795\n",
            "       left_right_lane        488          9      0.977          1      0.995      0.919\n",
            "            no_parking        488         34      0.891      0.966      0.981      0.861\n",
            "       ped_zebra_cross        488         36          1      0.825      0.995      0.823\n",
            "      railway_crossing        488         30      0.946      0.967      0.964      0.755\n",
            "             red_light        488         35      0.963      0.735      0.904      0.625\n",
            "                  stop        488         34      0.956      0.824      0.963      0.799\n",
            "      t_intersection_l        488         30      0.986          1      0.995      0.795\n",
            "         traffic_light        488         30          1       0.94      0.993       0.84\n",
            "               warning        488         30      0.982          1      0.995      0.863\n",
            "          yellow_light        488         29      0.894      0.897      0.931      0.647\n",
            "Speed: 0.3ms preprocess, 10.2ms inference, 0.0ms loss, 2.8ms postprocess per image\n",
            "Results saved to \u001b[1mruns/detect/train3\u001b[0m\n"
          ]
        },
        {
          "output_type": "execute_result",
          "data": {
            "text/plain": [
              "ultralytics.utils.metrics.DetMetrics object with attributes:\n",
              "\n",
              "ap_class_index: array([ 1,  2,  3,  4,  5,  6,  7,  8,  9, 12, 13, 14, 15, 16, 17, 19, 20])\n",
              "box: ultralytics.utils.metrics.Metric object\n",
              "confusion_matrix: <ultralytics.utils.metrics.ConfusionMatrix object at 0x79360a312470>\n",
              "curves: ['Precision-Recall(B)', 'F1-Confidence(B)', 'Precision-Confidence(B)', 'Recall-Confidence(B)']\n",
              "curves_results: [[array([          0,    0.001001,    0.002002,    0.003003,    0.004004,    0.005005,    0.006006,    0.007007,    0.008008,    0.009009,     0.01001,    0.011011,    0.012012,    0.013013,    0.014014,    0.015015,    0.016016,    0.017017,    0.018018,    0.019019,     0.02002,    0.021021,    0.022022,    0.023023,\n",
              "          0.024024,    0.025025,    0.026026,    0.027027,    0.028028,    0.029029,     0.03003,    0.031031,    0.032032,    0.033033,    0.034034,    0.035035,    0.036036,    0.037037,    0.038038,    0.039039,     0.04004,    0.041041,    0.042042,    0.043043,    0.044044,    0.045045,    0.046046,    0.047047,\n",
              "          0.048048,    0.049049,     0.05005,    0.051051,    0.052052,    0.053053,    0.054054,    0.055055,    0.056056,    0.057057,    0.058058,    0.059059,     0.06006,    0.061061,    0.062062,    0.063063,    0.064064,    0.065065,    0.066066,    0.067067,    0.068068,    0.069069,     0.07007,    0.071071,\n",
              "          0.072072,    0.073073,    0.074074,    0.075075,    0.076076,    0.077077,    0.078078,    0.079079,     0.08008,    0.081081,    0.082082,    0.083083,    0.084084,    0.085085,    0.086086,    0.087087,    0.088088,    0.089089,     0.09009,    0.091091,    0.092092,    0.093093,    0.094094,    0.095095,\n",
              "          0.096096,    0.097097,    0.098098,    0.099099,      0.1001,      0.1011,      0.1021,      0.1031,      0.1041,     0.10511,     0.10611,     0.10711,     0.10811,     0.10911,     0.11011,     0.11111,     0.11211,     0.11311,     0.11411,     0.11512,     0.11612,     0.11712,     0.11812,     0.11912,\n",
              "           0.12012,     0.12112,     0.12212,     0.12312,     0.12412,     0.12513,     0.12613,     0.12713,     0.12813,     0.12913,     0.13013,     0.13113,     0.13213,     0.13313,     0.13413,     0.13514,     0.13614,     0.13714,     0.13814,     0.13914,     0.14014,     0.14114,     0.14214,     0.14314,\n",
              "           0.14414,     0.14515,     0.14615,     0.14715,     0.14815,     0.14915,     0.15015,     0.15115,     0.15215,     0.15315,     0.15415,     0.15516,     0.15616,     0.15716,     0.15816,     0.15916,     0.16016,     0.16116,     0.16216,     0.16316,     0.16416,     0.16517,     0.16617,     0.16717,\n",
              "           0.16817,     0.16917,     0.17017,     0.17117,     0.17217,     0.17317,     0.17417,     0.17518,     0.17618,     0.17718,     0.17818,     0.17918,     0.18018,     0.18118,     0.18218,     0.18318,     0.18418,     0.18519,     0.18619,     0.18719,     0.18819,     0.18919,     0.19019,     0.19119,\n",
              "           0.19219,     0.19319,     0.19419,      0.1952,      0.1962,      0.1972,      0.1982,      0.1992,      0.2002,      0.2012,      0.2022,      0.2032,      0.2042,     0.20521,     0.20621,     0.20721,     0.20821,     0.20921,     0.21021,     0.21121,     0.21221,     0.21321,     0.21421,     0.21522,\n",
              "           0.21622,     0.21722,     0.21822,     0.21922,     0.22022,     0.22122,     0.22222,     0.22322,     0.22422,     0.22523,     0.22623,     0.22723,     0.22823,     0.22923,     0.23023,     0.23123,     0.23223,     0.23323,     0.23423,     0.23524,     0.23624,     0.23724,     0.23824,     0.23924,\n",
              "           0.24024,     0.24124,     0.24224,     0.24324,     0.24424,     0.24525,     0.24625,     0.24725,     0.24825,     0.24925,     0.25025,     0.25125,     0.25225,     0.25325,     0.25425,     0.25526,     0.25626,     0.25726,     0.25826,     0.25926,     0.26026,     0.26126,     0.26226,     0.26326,\n",
              "           0.26426,     0.26527,     0.26627,     0.26727,     0.26827,     0.26927,     0.27027,     0.27127,     0.27227,     0.27327,     0.27427,     0.27528,     0.27628,     0.27728,     0.27828,     0.27928,     0.28028,     0.28128,     0.28228,     0.28328,     0.28428,     0.28529,     0.28629,     0.28729,\n",
              "           0.28829,     0.28929,     0.29029,     0.29129,     0.29229,     0.29329,     0.29429,      0.2953,      0.2963,      0.2973,      0.2983,      0.2993,      0.3003,      0.3013,      0.3023,      0.3033,      0.3043,     0.30531,     0.30631,     0.30731,     0.30831,     0.30931,     0.31031,     0.31131,\n",
              "           0.31231,     0.31331,     0.31431,     0.31532,     0.31632,     0.31732,     0.31832,     0.31932,     0.32032,     0.32132,     0.32232,     0.32332,     0.32432,     0.32533,     0.32633,     0.32733,     0.32833,     0.32933,     0.33033,     0.33133,     0.33233,     0.33333,     0.33433,     0.33534,\n",
              "           0.33634,     0.33734,     0.33834,     0.33934,     0.34034,     0.34134,     0.34234,     0.34334,     0.34434,     0.34535,     0.34635,     0.34735,     0.34835,     0.34935,     0.35035,     0.35135,     0.35235,     0.35335,     0.35435,     0.35536,     0.35636,     0.35736,     0.35836,     0.35936,\n",
              "           0.36036,     0.36136,     0.36236,     0.36336,     0.36436,     0.36537,     0.36637,     0.36737,     0.36837,     0.36937,     0.37037,     0.37137,     0.37237,     0.37337,     0.37437,     0.37538,     0.37638,     0.37738,     0.37838,     0.37938,     0.38038,     0.38138,     0.38238,     0.38338,\n",
              "           0.38438,     0.38539,     0.38639,     0.38739,     0.38839,     0.38939,     0.39039,     0.39139,     0.39239,     0.39339,     0.39439,      0.3954,      0.3964,      0.3974,      0.3984,      0.3994,      0.4004,      0.4014,      0.4024,      0.4034,      0.4044,     0.40541,     0.40641,     0.40741,\n",
              "           0.40841,     0.40941,     0.41041,     0.41141,     0.41241,     0.41341,     0.41441,     0.41542,     0.41642,     0.41742,     0.41842,     0.41942,     0.42042,     0.42142,     0.42242,     0.42342,     0.42442,     0.42543,     0.42643,     0.42743,     0.42843,     0.42943,     0.43043,     0.43143,\n",
              "           0.43243,     0.43343,     0.43443,     0.43544,     0.43644,     0.43744,     0.43844,     0.43944,     0.44044,     0.44144,     0.44244,     0.44344,     0.44444,     0.44545,     0.44645,     0.44745,     0.44845,     0.44945,     0.45045,     0.45145,     0.45245,     0.45345,     0.45445,     0.45546,\n",
              "           0.45646,     0.45746,     0.45846,     0.45946,     0.46046,     0.46146,     0.46246,     0.46346,     0.46446,     0.46547,     0.46647,     0.46747,     0.46847,     0.46947,     0.47047,     0.47147,     0.47247,     0.47347,     0.47447,     0.47548,     0.47648,     0.47748,     0.47848,     0.47948,\n",
              "           0.48048,     0.48148,     0.48248,     0.48348,     0.48448,     0.48549,     0.48649,     0.48749,     0.48849,     0.48949,     0.49049,     0.49149,     0.49249,     0.49349,     0.49449,      0.4955,      0.4965,      0.4975,      0.4985,      0.4995,      0.5005,      0.5015,      0.5025,      0.5035,\n",
              "            0.5045,     0.50551,     0.50651,     0.50751,     0.50851,     0.50951,     0.51051,     0.51151,     0.51251,     0.51351,     0.51451,     0.51552,     0.51652,     0.51752,     0.51852,     0.51952,     0.52052,     0.52152,     0.52252,     0.52352,     0.52452,     0.52553,     0.52653,     0.52753,\n",
              "           0.52853,     0.52953,     0.53053,     0.53153,     0.53253,     0.53353,     0.53453,     0.53554,     0.53654,     0.53754,     0.53854,     0.53954,     0.54054,     0.54154,     0.54254,     0.54354,     0.54454,     0.54555,     0.54655,     0.54755,     0.54855,     0.54955,     0.55055,     0.55155,\n",
              "           0.55255,     0.55355,     0.55455,     0.55556,     0.55656,     0.55756,     0.55856,     0.55956,     0.56056,     0.56156,     0.56256,     0.56356,     0.56456,     0.56557,     0.56657,     0.56757,     0.56857,     0.56957,     0.57057,     0.57157,     0.57257,     0.57357,     0.57457,     0.57558,\n",
              "           0.57658,     0.57758,     0.57858,     0.57958,     0.58058,     0.58158,     0.58258,     0.58358,     0.58458,     0.58559,     0.58659,     0.58759,     0.58859,     0.58959,     0.59059,     0.59159,     0.59259,     0.59359,     0.59459,      0.5956,      0.5966,      0.5976,      0.5986,      0.5996,\n",
              "            0.6006,      0.6016,      0.6026,      0.6036,      0.6046,     0.60561,     0.60661,     0.60761,     0.60861,     0.60961,     0.61061,     0.61161,     0.61261,     0.61361,     0.61461,     0.61562,     0.61662,     0.61762,     0.61862,     0.61962,     0.62062,     0.62162,     0.62262,     0.62362,\n",
              "           0.62462,     0.62563,     0.62663,     0.62763,     0.62863,     0.62963,     0.63063,     0.63163,     0.63263,     0.63363,     0.63463,     0.63564,     0.63664,     0.63764,     0.63864,     0.63964,     0.64064,     0.64164,     0.64264,     0.64364,     0.64464,     0.64565,     0.64665,     0.64765,\n",
              "           0.64865,     0.64965,     0.65065,     0.65165,     0.65265,     0.65365,     0.65465,     0.65566,     0.65666,     0.65766,     0.65866,     0.65966,     0.66066,     0.66166,     0.66266,     0.66366,     0.66466,     0.66567,     0.66667,     0.66767,     0.66867,     0.66967,     0.67067,     0.67167,\n",
              "           0.67267,     0.67367,     0.67467,     0.67568,     0.67668,     0.67768,     0.67868,     0.67968,     0.68068,     0.68168,     0.68268,     0.68368,     0.68468,     0.68569,     0.68669,     0.68769,     0.68869,     0.68969,     0.69069,     0.69169,     0.69269,     0.69369,     0.69469,      0.6957,\n",
              "            0.6967,      0.6977,      0.6987,      0.6997,      0.7007,      0.7017,      0.7027,      0.7037,      0.7047,     0.70571,     0.70671,     0.70771,     0.70871,     0.70971,     0.71071,     0.71171,     0.71271,     0.71371,     0.71471,     0.71572,     0.71672,     0.71772,     0.71872,     0.71972,\n",
              "           0.72072,     0.72172,     0.72272,     0.72372,     0.72472,     0.72573,     0.72673,     0.72773,     0.72873,     0.72973,     0.73073,     0.73173,     0.73273,     0.73373,     0.73473,     0.73574,     0.73674,     0.73774,     0.73874,     0.73974,     0.74074,     0.74174,     0.74274,     0.74374,\n",
              "           0.74474,     0.74575,     0.74675,     0.74775,     0.74875,     0.74975,     0.75075,     0.75175,     0.75275,     0.75375,     0.75475,     0.75576,     0.75676,     0.75776,     0.75876,     0.75976,     0.76076,     0.76176,     0.76276,     0.76376,     0.76476,     0.76577,     0.76677,     0.76777,\n",
              "           0.76877,     0.76977,     0.77077,     0.77177,     0.77277,     0.77377,     0.77477,     0.77578,     0.77678,     0.77778,     0.77878,     0.77978,     0.78078,     0.78178,     0.78278,     0.78378,     0.78478,     0.78579,     0.78679,     0.78779,     0.78879,     0.78979,     0.79079,     0.79179,\n",
              "           0.79279,     0.79379,     0.79479,      0.7958,      0.7968,      0.7978,      0.7988,      0.7998,      0.8008,      0.8018,      0.8028,      0.8038,      0.8048,     0.80581,     0.80681,     0.80781,     0.80881,     0.80981,     0.81081,     0.81181,     0.81281,     0.81381,     0.81481,     0.81582,\n",
              "           0.81682,     0.81782,     0.81882,     0.81982,     0.82082,     0.82182,     0.82282,     0.82382,     0.82482,     0.82583,     0.82683,     0.82783,     0.82883,     0.82983,     0.83083,     0.83183,     0.83283,     0.83383,     0.83483,     0.83584,     0.83684,     0.83784,     0.83884,     0.83984,\n",
              "           0.84084,     0.84184,     0.84284,     0.84384,     0.84484,     0.84585,     0.84685,     0.84785,     0.84885,     0.84985,     0.85085,     0.85185,     0.85285,     0.85385,     0.85485,     0.85586,     0.85686,     0.85786,     0.85886,     0.85986,     0.86086,     0.86186,     0.86286,     0.86386,\n",
              "           0.86486,     0.86587,     0.86687,     0.86787,     0.86887,     0.86987,     0.87087,     0.87187,     0.87287,     0.87387,     0.87487,     0.87588,     0.87688,     0.87788,     0.87888,     0.87988,     0.88088,     0.88188,     0.88288,     0.88388,     0.88488,     0.88589,     0.88689,     0.88789,\n",
              "           0.88889,     0.88989,     0.89089,     0.89189,     0.89289,     0.89389,     0.89489,      0.8959,      0.8969,      0.8979,      0.8989,      0.8999,      0.9009,      0.9019,      0.9029,      0.9039,      0.9049,     0.90591,     0.90691,     0.90791,     0.90891,     0.90991,     0.91091,     0.91191,\n",
              "           0.91291,     0.91391,     0.91491,     0.91592,     0.91692,     0.91792,     0.91892,     0.91992,     0.92092,     0.92192,     0.92292,     0.92392,     0.92492,     0.92593,     0.92693,     0.92793,     0.92893,     0.92993,     0.93093,     0.93193,     0.93293,     0.93393,     0.93493,     0.93594,\n",
              "           0.93694,     0.93794,     0.93894,     0.93994,     0.94094,     0.94194,     0.94294,     0.94394,     0.94494,     0.94595,     0.94695,     0.94795,     0.94895,     0.94995,     0.95095,     0.95195,     0.95295,     0.95395,     0.95495,     0.95596,     0.95696,     0.95796,     0.95896,     0.95996,\n",
              "           0.96096,     0.96196,     0.96296,     0.96396,     0.96496,     0.96597,     0.96697,     0.96797,     0.96897,     0.96997,     0.97097,     0.97197,     0.97297,     0.97397,     0.97497,     0.97598,     0.97698,     0.97798,     0.97898,     0.97998,     0.98098,     0.98198,     0.98298,     0.98398,\n",
              "           0.98498,     0.98599,     0.98699,     0.98799,     0.98899,     0.98999,     0.99099,     0.99199,     0.99299,     0.99399,     0.99499,       0.996,       0.997,       0.998,       0.999,           1]), array([[          1,           1,           1, ...,     0.96774,     0.96774,           0],\n",
              "       [          1,           1,           1, ...,    0.020491,    0.010246,           0],\n",
              "       [          1,           1,           1, ...,           1,           1,           0],\n",
              "       ...,\n",
              "       [          1,           1,           1, ...,      0.9375,      0.9375,           0],\n",
              "       [          1,           1,           1, ...,           1,           1,           0],\n",
              "       [          1,           1,           1, ...,     0.19079,     0.19079,           0]]), 'Recall', 'Precision'], [array([          0,    0.001001,    0.002002,    0.003003,    0.004004,    0.005005,    0.006006,    0.007007,    0.008008,    0.009009,     0.01001,    0.011011,    0.012012,    0.013013,    0.014014,    0.015015,    0.016016,    0.017017,    0.018018,    0.019019,     0.02002,    0.021021,    0.022022,    0.023023,\n",
              "          0.024024,    0.025025,    0.026026,    0.027027,    0.028028,    0.029029,     0.03003,    0.031031,    0.032032,    0.033033,    0.034034,    0.035035,    0.036036,    0.037037,    0.038038,    0.039039,     0.04004,    0.041041,    0.042042,    0.043043,    0.044044,    0.045045,    0.046046,    0.047047,\n",
              "          0.048048,    0.049049,     0.05005,    0.051051,    0.052052,    0.053053,    0.054054,    0.055055,    0.056056,    0.057057,    0.058058,    0.059059,     0.06006,    0.061061,    0.062062,    0.063063,    0.064064,    0.065065,    0.066066,    0.067067,    0.068068,    0.069069,     0.07007,    0.071071,\n",
              "          0.072072,    0.073073,    0.074074,    0.075075,    0.076076,    0.077077,    0.078078,    0.079079,     0.08008,    0.081081,    0.082082,    0.083083,    0.084084,    0.085085,    0.086086,    0.087087,    0.088088,    0.089089,     0.09009,    0.091091,    0.092092,    0.093093,    0.094094,    0.095095,\n",
              "          0.096096,    0.097097,    0.098098,    0.099099,      0.1001,      0.1011,      0.1021,      0.1031,      0.1041,     0.10511,     0.10611,     0.10711,     0.10811,     0.10911,     0.11011,     0.11111,     0.11211,     0.11311,     0.11411,     0.11512,     0.11612,     0.11712,     0.11812,     0.11912,\n",
              "           0.12012,     0.12112,     0.12212,     0.12312,     0.12412,     0.12513,     0.12613,     0.12713,     0.12813,     0.12913,     0.13013,     0.13113,     0.13213,     0.13313,     0.13413,     0.13514,     0.13614,     0.13714,     0.13814,     0.13914,     0.14014,     0.14114,     0.14214,     0.14314,\n",
              "           0.14414,     0.14515,     0.14615,     0.14715,     0.14815,     0.14915,     0.15015,     0.15115,     0.15215,     0.15315,     0.15415,     0.15516,     0.15616,     0.15716,     0.15816,     0.15916,     0.16016,     0.16116,     0.16216,     0.16316,     0.16416,     0.16517,     0.16617,     0.16717,\n",
              "           0.16817,     0.16917,     0.17017,     0.17117,     0.17217,     0.17317,     0.17417,     0.17518,     0.17618,     0.17718,     0.17818,     0.17918,     0.18018,     0.18118,     0.18218,     0.18318,     0.18418,     0.18519,     0.18619,     0.18719,     0.18819,     0.18919,     0.19019,     0.19119,\n",
              "           0.19219,     0.19319,     0.19419,      0.1952,      0.1962,      0.1972,      0.1982,      0.1992,      0.2002,      0.2012,      0.2022,      0.2032,      0.2042,     0.20521,     0.20621,     0.20721,     0.20821,     0.20921,     0.21021,     0.21121,     0.21221,     0.21321,     0.21421,     0.21522,\n",
              "           0.21622,     0.21722,     0.21822,     0.21922,     0.22022,     0.22122,     0.22222,     0.22322,     0.22422,     0.22523,     0.22623,     0.22723,     0.22823,     0.22923,     0.23023,     0.23123,     0.23223,     0.23323,     0.23423,     0.23524,     0.23624,     0.23724,     0.23824,     0.23924,\n",
              "           0.24024,     0.24124,     0.24224,     0.24324,     0.24424,     0.24525,     0.24625,     0.24725,     0.24825,     0.24925,     0.25025,     0.25125,     0.25225,     0.25325,     0.25425,     0.25526,     0.25626,     0.25726,     0.25826,     0.25926,     0.26026,     0.26126,     0.26226,     0.26326,\n",
              "           0.26426,     0.26527,     0.26627,     0.26727,     0.26827,     0.26927,     0.27027,     0.27127,     0.27227,     0.27327,     0.27427,     0.27528,     0.27628,     0.27728,     0.27828,     0.27928,     0.28028,     0.28128,     0.28228,     0.28328,     0.28428,     0.28529,     0.28629,     0.28729,\n",
              "           0.28829,     0.28929,     0.29029,     0.29129,     0.29229,     0.29329,     0.29429,      0.2953,      0.2963,      0.2973,      0.2983,      0.2993,      0.3003,      0.3013,      0.3023,      0.3033,      0.3043,     0.30531,     0.30631,     0.30731,     0.30831,     0.30931,     0.31031,     0.31131,\n",
              "           0.31231,     0.31331,     0.31431,     0.31532,     0.31632,     0.31732,     0.31832,     0.31932,     0.32032,     0.32132,     0.32232,     0.32332,     0.32432,     0.32533,     0.32633,     0.32733,     0.32833,     0.32933,     0.33033,     0.33133,     0.33233,     0.33333,     0.33433,     0.33534,\n",
              "           0.33634,     0.33734,     0.33834,     0.33934,     0.34034,     0.34134,     0.34234,     0.34334,     0.34434,     0.34535,     0.34635,     0.34735,     0.34835,     0.34935,     0.35035,     0.35135,     0.35235,     0.35335,     0.35435,     0.35536,     0.35636,     0.35736,     0.35836,     0.35936,\n",
              "           0.36036,     0.36136,     0.36236,     0.36336,     0.36436,     0.36537,     0.36637,     0.36737,     0.36837,     0.36937,     0.37037,     0.37137,     0.37237,     0.37337,     0.37437,     0.37538,     0.37638,     0.37738,     0.37838,     0.37938,     0.38038,     0.38138,     0.38238,     0.38338,\n",
              "           0.38438,     0.38539,     0.38639,     0.38739,     0.38839,     0.38939,     0.39039,     0.39139,     0.39239,     0.39339,     0.39439,      0.3954,      0.3964,      0.3974,      0.3984,      0.3994,      0.4004,      0.4014,      0.4024,      0.4034,      0.4044,     0.40541,     0.40641,     0.40741,\n",
              "           0.40841,     0.40941,     0.41041,     0.41141,     0.41241,     0.41341,     0.41441,     0.41542,     0.41642,     0.41742,     0.41842,     0.41942,     0.42042,     0.42142,     0.42242,     0.42342,     0.42442,     0.42543,     0.42643,     0.42743,     0.42843,     0.42943,     0.43043,     0.43143,\n",
              "           0.43243,     0.43343,     0.43443,     0.43544,     0.43644,     0.43744,     0.43844,     0.43944,     0.44044,     0.44144,     0.44244,     0.44344,     0.44444,     0.44545,     0.44645,     0.44745,     0.44845,     0.44945,     0.45045,     0.45145,     0.45245,     0.45345,     0.45445,     0.45546,\n",
              "           0.45646,     0.45746,     0.45846,     0.45946,     0.46046,     0.46146,     0.46246,     0.46346,     0.46446,     0.46547,     0.46647,     0.46747,     0.46847,     0.46947,     0.47047,     0.47147,     0.47247,     0.47347,     0.47447,     0.47548,     0.47648,     0.47748,     0.47848,     0.47948,\n",
              "           0.48048,     0.48148,     0.48248,     0.48348,     0.48448,     0.48549,     0.48649,     0.48749,     0.48849,     0.48949,     0.49049,     0.49149,     0.49249,     0.49349,     0.49449,      0.4955,      0.4965,      0.4975,      0.4985,      0.4995,      0.5005,      0.5015,      0.5025,      0.5035,\n",
              "            0.5045,     0.50551,     0.50651,     0.50751,     0.50851,     0.50951,     0.51051,     0.51151,     0.51251,     0.51351,     0.51451,     0.51552,     0.51652,     0.51752,     0.51852,     0.51952,     0.52052,     0.52152,     0.52252,     0.52352,     0.52452,     0.52553,     0.52653,     0.52753,\n",
              "           0.52853,     0.52953,     0.53053,     0.53153,     0.53253,     0.53353,     0.53453,     0.53554,     0.53654,     0.53754,     0.53854,     0.53954,     0.54054,     0.54154,     0.54254,     0.54354,     0.54454,     0.54555,     0.54655,     0.54755,     0.54855,     0.54955,     0.55055,     0.55155,\n",
              "           0.55255,     0.55355,     0.55455,     0.55556,     0.55656,     0.55756,     0.55856,     0.55956,     0.56056,     0.56156,     0.56256,     0.56356,     0.56456,     0.56557,     0.56657,     0.56757,     0.56857,     0.56957,     0.57057,     0.57157,     0.57257,     0.57357,     0.57457,     0.57558,\n",
              "           0.57658,     0.57758,     0.57858,     0.57958,     0.58058,     0.58158,     0.58258,     0.58358,     0.58458,     0.58559,     0.58659,     0.58759,     0.58859,     0.58959,     0.59059,     0.59159,     0.59259,     0.59359,     0.59459,      0.5956,      0.5966,      0.5976,      0.5986,      0.5996,\n",
              "            0.6006,      0.6016,      0.6026,      0.6036,      0.6046,     0.60561,     0.60661,     0.60761,     0.60861,     0.60961,     0.61061,     0.61161,     0.61261,     0.61361,     0.61461,     0.61562,     0.61662,     0.61762,     0.61862,     0.61962,     0.62062,     0.62162,     0.62262,     0.62362,\n",
              "           0.62462,     0.62563,     0.62663,     0.62763,     0.62863,     0.62963,     0.63063,     0.63163,     0.63263,     0.63363,     0.63463,     0.63564,     0.63664,     0.63764,     0.63864,     0.63964,     0.64064,     0.64164,     0.64264,     0.64364,     0.64464,     0.64565,     0.64665,     0.64765,\n",
              "           0.64865,     0.64965,     0.65065,     0.65165,     0.65265,     0.65365,     0.65465,     0.65566,     0.65666,     0.65766,     0.65866,     0.65966,     0.66066,     0.66166,     0.66266,     0.66366,     0.66466,     0.66567,     0.66667,     0.66767,     0.66867,     0.66967,     0.67067,     0.67167,\n",
              "           0.67267,     0.67367,     0.67467,     0.67568,     0.67668,     0.67768,     0.67868,     0.67968,     0.68068,     0.68168,     0.68268,     0.68368,     0.68468,     0.68569,     0.68669,     0.68769,     0.68869,     0.68969,     0.69069,     0.69169,     0.69269,     0.69369,     0.69469,      0.6957,\n",
              "            0.6967,      0.6977,      0.6987,      0.6997,      0.7007,      0.7017,      0.7027,      0.7037,      0.7047,     0.70571,     0.70671,     0.70771,     0.70871,     0.70971,     0.71071,     0.71171,     0.71271,     0.71371,     0.71471,     0.71572,     0.71672,     0.71772,     0.71872,     0.71972,\n",
              "           0.72072,     0.72172,     0.72272,     0.72372,     0.72472,     0.72573,     0.72673,     0.72773,     0.72873,     0.72973,     0.73073,     0.73173,     0.73273,     0.73373,     0.73473,     0.73574,     0.73674,     0.73774,     0.73874,     0.73974,     0.74074,     0.74174,     0.74274,     0.74374,\n",
              "           0.74474,     0.74575,     0.74675,     0.74775,     0.74875,     0.74975,     0.75075,     0.75175,     0.75275,     0.75375,     0.75475,     0.75576,     0.75676,     0.75776,     0.75876,     0.75976,     0.76076,     0.76176,     0.76276,     0.76376,     0.76476,     0.76577,     0.76677,     0.76777,\n",
              "           0.76877,     0.76977,     0.77077,     0.77177,     0.77277,     0.77377,     0.77477,     0.77578,     0.77678,     0.77778,     0.77878,     0.77978,     0.78078,     0.78178,     0.78278,     0.78378,     0.78478,     0.78579,     0.78679,     0.78779,     0.78879,     0.78979,     0.79079,     0.79179,\n",
              "           0.79279,     0.79379,     0.79479,      0.7958,      0.7968,      0.7978,      0.7988,      0.7998,      0.8008,      0.8018,      0.8028,      0.8038,      0.8048,     0.80581,     0.80681,     0.80781,     0.80881,     0.80981,     0.81081,     0.81181,     0.81281,     0.81381,     0.81481,     0.81582,\n",
              "           0.81682,     0.81782,     0.81882,     0.81982,     0.82082,     0.82182,     0.82282,     0.82382,     0.82482,     0.82583,     0.82683,     0.82783,     0.82883,     0.82983,     0.83083,     0.83183,     0.83283,     0.83383,     0.83483,     0.83584,     0.83684,     0.83784,     0.83884,     0.83984,\n",
              "           0.84084,     0.84184,     0.84284,     0.84384,     0.84484,     0.84585,     0.84685,     0.84785,     0.84885,     0.84985,     0.85085,     0.85185,     0.85285,     0.85385,     0.85485,     0.85586,     0.85686,     0.85786,     0.85886,     0.85986,     0.86086,     0.86186,     0.86286,     0.86386,\n",
              "           0.86486,     0.86587,     0.86687,     0.86787,     0.86887,     0.86987,     0.87087,     0.87187,     0.87287,     0.87387,     0.87487,     0.87588,     0.87688,     0.87788,     0.87888,     0.87988,     0.88088,     0.88188,     0.88288,     0.88388,     0.88488,     0.88589,     0.88689,     0.88789,\n",
              "           0.88889,     0.88989,     0.89089,     0.89189,     0.89289,     0.89389,     0.89489,      0.8959,      0.8969,      0.8979,      0.8989,      0.8999,      0.9009,      0.9019,      0.9029,      0.9039,      0.9049,     0.90591,     0.90691,     0.90791,     0.90891,     0.90991,     0.91091,     0.91191,\n",
              "           0.91291,     0.91391,     0.91491,     0.91592,     0.91692,     0.91792,     0.91892,     0.91992,     0.92092,     0.92192,     0.92292,     0.92392,     0.92492,     0.92593,     0.92693,     0.92793,     0.92893,     0.92993,     0.93093,     0.93193,     0.93293,     0.93393,     0.93493,     0.93594,\n",
              "           0.93694,     0.93794,     0.93894,     0.93994,     0.94094,     0.94194,     0.94294,     0.94394,     0.94494,     0.94595,     0.94695,     0.94795,     0.94895,     0.94995,     0.95095,     0.95195,     0.95295,     0.95395,     0.95495,     0.95596,     0.95696,     0.95796,     0.95896,     0.95996,\n",
              "           0.96096,     0.96196,     0.96296,     0.96396,     0.96496,     0.96597,     0.96697,     0.96797,     0.96897,     0.96997,     0.97097,     0.97197,     0.97297,     0.97397,     0.97497,     0.97598,     0.97698,     0.97798,     0.97898,     0.97998,     0.98098,     0.98198,     0.98298,     0.98398,\n",
              "           0.98498,     0.98599,     0.98699,     0.98799,     0.98899,     0.98999,     0.99099,     0.99199,     0.99299,     0.99399,     0.99499,       0.996,       0.997,       0.998,       0.999,           1]), array([[     0.5042,      0.5042,     0.65541, ...,           0,           0,           0],\n",
              "       [    0.50435,     0.50435,     0.62021, ...,           0,           0,           0],\n",
              "       [    0.41975,     0.41975,     0.57781, ...,           0,           0,           0],\n",
              "       ...,\n",
              "       [    0.42857,     0.42857,     0.61508, ...,           0,           0,           0],\n",
              "       [    0.57692,     0.57692,     0.67929, ...,           0,           0,           0],\n",
              "       [   0.070905,    0.070905,     0.11409, ...,           0,           0,           0]]), 'Confidence', 'F1'], [array([          0,    0.001001,    0.002002,    0.003003,    0.004004,    0.005005,    0.006006,    0.007007,    0.008008,    0.009009,     0.01001,    0.011011,    0.012012,    0.013013,    0.014014,    0.015015,    0.016016,    0.017017,    0.018018,    0.019019,     0.02002,    0.021021,    0.022022,    0.023023,\n",
              "          0.024024,    0.025025,    0.026026,    0.027027,    0.028028,    0.029029,     0.03003,    0.031031,    0.032032,    0.033033,    0.034034,    0.035035,    0.036036,    0.037037,    0.038038,    0.039039,     0.04004,    0.041041,    0.042042,    0.043043,    0.044044,    0.045045,    0.046046,    0.047047,\n",
              "          0.048048,    0.049049,     0.05005,    0.051051,    0.052052,    0.053053,    0.054054,    0.055055,    0.056056,    0.057057,    0.058058,    0.059059,     0.06006,    0.061061,    0.062062,    0.063063,    0.064064,    0.065065,    0.066066,    0.067067,    0.068068,    0.069069,     0.07007,    0.071071,\n",
              "          0.072072,    0.073073,    0.074074,    0.075075,    0.076076,    0.077077,    0.078078,    0.079079,     0.08008,    0.081081,    0.082082,    0.083083,    0.084084,    0.085085,    0.086086,    0.087087,    0.088088,    0.089089,     0.09009,    0.091091,    0.092092,    0.093093,    0.094094,    0.095095,\n",
              "          0.096096,    0.097097,    0.098098,    0.099099,      0.1001,      0.1011,      0.1021,      0.1031,      0.1041,     0.10511,     0.10611,     0.10711,     0.10811,     0.10911,     0.11011,     0.11111,     0.11211,     0.11311,     0.11411,     0.11512,     0.11612,     0.11712,     0.11812,     0.11912,\n",
              "           0.12012,     0.12112,     0.12212,     0.12312,     0.12412,     0.12513,     0.12613,     0.12713,     0.12813,     0.12913,     0.13013,     0.13113,     0.13213,     0.13313,     0.13413,     0.13514,     0.13614,     0.13714,     0.13814,     0.13914,     0.14014,     0.14114,     0.14214,     0.14314,\n",
              "           0.14414,     0.14515,     0.14615,     0.14715,     0.14815,     0.14915,     0.15015,     0.15115,     0.15215,     0.15315,     0.15415,     0.15516,     0.15616,     0.15716,     0.15816,     0.15916,     0.16016,     0.16116,     0.16216,     0.16316,     0.16416,     0.16517,     0.16617,     0.16717,\n",
              "           0.16817,     0.16917,     0.17017,     0.17117,     0.17217,     0.17317,     0.17417,     0.17518,     0.17618,     0.17718,     0.17818,     0.17918,     0.18018,     0.18118,     0.18218,     0.18318,     0.18418,     0.18519,     0.18619,     0.18719,     0.18819,     0.18919,     0.19019,     0.19119,\n",
              "           0.19219,     0.19319,     0.19419,      0.1952,      0.1962,      0.1972,      0.1982,      0.1992,      0.2002,      0.2012,      0.2022,      0.2032,      0.2042,     0.20521,     0.20621,     0.20721,     0.20821,     0.20921,     0.21021,     0.21121,     0.21221,     0.21321,     0.21421,     0.21522,\n",
              "           0.21622,     0.21722,     0.21822,     0.21922,     0.22022,     0.22122,     0.22222,     0.22322,     0.22422,     0.22523,     0.22623,     0.22723,     0.22823,     0.22923,     0.23023,     0.23123,     0.23223,     0.23323,     0.23423,     0.23524,     0.23624,     0.23724,     0.23824,     0.23924,\n",
              "           0.24024,     0.24124,     0.24224,     0.24324,     0.24424,     0.24525,     0.24625,     0.24725,     0.24825,     0.24925,     0.25025,     0.25125,     0.25225,     0.25325,     0.25425,     0.25526,     0.25626,     0.25726,     0.25826,     0.25926,     0.26026,     0.26126,     0.26226,     0.26326,\n",
              "           0.26426,     0.26527,     0.26627,     0.26727,     0.26827,     0.26927,     0.27027,     0.27127,     0.27227,     0.27327,     0.27427,     0.27528,     0.27628,     0.27728,     0.27828,     0.27928,     0.28028,     0.28128,     0.28228,     0.28328,     0.28428,     0.28529,     0.28629,     0.28729,\n",
              "           0.28829,     0.28929,     0.29029,     0.29129,     0.29229,     0.29329,     0.29429,      0.2953,      0.2963,      0.2973,      0.2983,      0.2993,      0.3003,      0.3013,      0.3023,      0.3033,      0.3043,     0.30531,     0.30631,     0.30731,     0.30831,     0.30931,     0.31031,     0.31131,\n",
              "           0.31231,     0.31331,     0.31431,     0.31532,     0.31632,     0.31732,     0.31832,     0.31932,     0.32032,     0.32132,     0.32232,     0.32332,     0.32432,     0.32533,     0.32633,     0.32733,     0.32833,     0.32933,     0.33033,     0.33133,     0.33233,     0.33333,     0.33433,     0.33534,\n",
              "           0.33634,     0.33734,     0.33834,     0.33934,     0.34034,     0.34134,     0.34234,     0.34334,     0.34434,     0.34535,     0.34635,     0.34735,     0.34835,     0.34935,     0.35035,     0.35135,     0.35235,     0.35335,     0.35435,     0.35536,     0.35636,     0.35736,     0.35836,     0.35936,\n",
              "           0.36036,     0.36136,     0.36236,     0.36336,     0.36436,     0.36537,     0.36637,     0.36737,     0.36837,     0.36937,     0.37037,     0.37137,     0.37237,     0.37337,     0.37437,     0.37538,     0.37638,     0.37738,     0.37838,     0.37938,     0.38038,     0.38138,     0.38238,     0.38338,\n",
              "           0.38438,     0.38539,     0.38639,     0.38739,     0.38839,     0.38939,     0.39039,     0.39139,     0.39239,     0.39339,     0.39439,      0.3954,      0.3964,      0.3974,      0.3984,      0.3994,      0.4004,      0.4014,      0.4024,      0.4034,      0.4044,     0.40541,     0.40641,     0.40741,\n",
              "           0.40841,     0.40941,     0.41041,     0.41141,     0.41241,     0.41341,     0.41441,     0.41542,     0.41642,     0.41742,     0.41842,     0.41942,     0.42042,     0.42142,     0.42242,     0.42342,     0.42442,     0.42543,     0.42643,     0.42743,     0.42843,     0.42943,     0.43043,     0.43143,\n",
              "           0.43243,     0.43343,     0.43443,     0.43544,     0.43644,     0.43744,     0.43844,     0.43944,     0.44044,     0.44144,     0.44244,     0.44344,     0.44444,     0.44545,     0.44645,     0.44745,     0.44845,     0.44945,     0.45045,     0.45145,     0.45245,     0.45345,     0.45445,     0.45546,\n",
              "           0.45646,     0.45746,     0.45846,     0.45946,     0.46046,     0.46146,     0.46246,     0.46346,     0.46446,     0.46547,     0.46647,     0.46747,     0.46847,     0.46947,     0.47047,     0.47147,     0.47247,     0.47347,     0.47447,     0.47548,     0.47648,     0.47748,     0.47848,     0.47948,\n",
              "           0.48048,     0.48148,     0.48248,     0.48348,     0.48448,     0.48549,     0.48649,     0.48749,     0.48849,     0.48949,     0.49049,     0.49149,     0.49249,     0.49349,     0.49449,      0.4955,      0.4965,      0.4975,      0.4985,      0.4995,      0.5005,      0.5015,      0.5025,      0.5035,\n",
              "            0.5045,     0.50551,     0.50651,     0.50751,     0.50851,     0.50951,     0.51051,     0.51151,     0.51251,     0.51351,     0.51451,     0.51552,     0.51652,     0.51752,     0.51852,     0.51952,     0.52052,     0.52152,     0.52252,     0.52352,     0.52452,     0.52553,     0.52653,     0.52753,\n",
              "           0.52853,     0.52953,     0.53053,     0.53153,     0.53253,     0.53353,     0.53453,     0.53554,     0.53654,     0.53754,     0.53854,     0.53954,     0.54054,     0.54154,     0.54254,     0.54354,     0.54454,     0.54555,     0.54655,     0.54755,     0.54855,     0.54955,     0.55055,     0.55155,\n",
              "           0.55255,     0.55355,     0.55455,     0.55556,     0.55656,     0.55756,     0.55856,     0.55956,     0.56056,     0.56156,     0.56256,     0.56356,     0.56456,     0.56557,     0.56657,     0.56757,     0.56857,     0.56957,     0.57057,     0.57157,     0.57257,     0.57357,     0.57457,     0.57558,\n",
              "           0.57658,     0.57758,     0.57858,     0.57958,     0.58058,     0.58158,     0.58258,     0.58358,     0.58458,     0.58559,     0.58659,     0.58759,     0.58859,     0.58959,     0.59059,     0.59159,     0.59259,     0.59359,     0.59459,      0.5956,      0.5966,      0.5976,      0.5986,      0.5996,\n",
              "            0.6006,      0.6016,      0.6026,      0.6036,      0.6046,     0.60561,     0.60661,     0.60761,     0.60861,     0.60961,     0.61061,     0.61161,     0.61261,     0.61361,     0.61461,     0.61562,     0.61662,     0.61762,     0.61862,     0.61962,     0.62062,     0.62162,     0.62262,     0.62362,\n",
              "           0.62462,     0.62563,     0.62663,     0.62763,     0.62863,     0.62963,     0.63063,     0.63163,     0.63263,     0.63363,     0.63463,     0.63564,     0.63664,     0.63764,     0.63864,     0.63964,     0.64064,     0.64164,     0.64264,     0.64364,     0.64464,     0.64565,     0.64665,     0.64765,\n",
              "           0.64865,     0.64965,     0.65065,     0.65165,     0.65265,     0.65365,     0.65465,     0.65566,     0.65666,     0.65766,     0.65866,     0.65966,     0.66066,     0.66166,     0.66266,     0.66366,     0.66466,     0.66567,     0.66667,     0.66767,     0.66867,     0.66967,     0.67067,     0.67167,\n",
              "           0.67267,     0.67367,     0.67467,     0.67568,     0.67668,     0.67768,     0.67868,     0.67968,     0.68068,     0.68168,     0.68268,     0.68368,     0.68468,     0.68569,     0.68669,     0.68769,     0.68869,     0.68969,     0.69069,     0.69169,     0.69269,     0.69369,     0.69469,      0.6957,\n",
              "            0.6967,      0.6977,      0.6987,      0.6997,      0.7007,      0.7017,      0.7027,      0.7037,      0.7047,     0.70571,     0.70671,     0.70771,     0.70871,     0.70971,     0.71071,     0.71171,     0.71271,     0.71371,     0.71471,     0.71572,     0.71672,     0.71772,     0.71872,     0.71972,\n",
              "           0.72072,     0.72172,     0.72272,     0.72372,     0.72472,     0.72573,     0.72673,     0.72773,     0.72873,     0.72973,     0.73073,     0.73173,     0.73273,     0.73373,     0.73473,     0.73574,     0.73674,     0.73774,     0.73874,     0.73974,     0.74074,     0.74174,     0.74274,     0.74374,\n",
              "           0.74474,     0.74575,     0.74675,     0.74775,     0.74875,     0.74975,     0.75075,     0.75175,     0.75275,     0.75375,     0.75475,     0.75576,     0.75676,     0.75776,     0.75876,     0.75976,     0.76076,     0.76176,     0.76276,     0.76376,     0.76476,     0.76577,     0.76677,     0.76777,\n",
              "           0.76877,     0.76977,     0.77077,     0.77177,     0.77277,     0.77377,     0.77477,     0.77578,     0.77678,     0.77778,     0.77878,     0.77978,     0.78078,     0.78178,     0.78278,     0.78378,     0.78478,     0.78579,     0.78679,     0.78779,     0.78879,     0.78979,     0.79079,     0.79179,\n",
              "           0.79279,     0.79379,     0.79479,      0.7958,      0.7968,      0.7978,      0.7988,      0.7998,      0.8008,      0.8018,      0.8028,      0.8038,      0.8048,     0.80581,     0.80681,     0.80781,     0.80881,     0.80981,     0.81081,     0.81181,     0.81281,     0.81381,     0.81481,     0.81582,\n",
              "           0.81682,     0.81782,     0.81882,     0.81982,     0.82082,     0.82182,     0.82282,     0.82382,     0.82482,     0.82583,     0.82683,     0.82783,     0.82883,     0.82983,     0.83083,     0.83183,     0.83283,     0.83383,     0.83483,     0.83584,     0.83684,     0.83784,     0.83884,     0.83984,\n",
              "           0.84084,     0.84184,     0.84284,     0.84384,     0.84484,     0.84585,     0.84685,     0.84785,     0.84885,     0.84985,     0.85085,     0.85185,     0.85285,     0.85385,     0.85485,     0.85586,     0.85686,     0.85786,     0.85886,     0.85986,     0.86086,     0.86186,     0.86286,     0.86386,\n",
              "           0.86486,     0.86587,     0.86687,     0.86787,     0.86887,     0.86987,     0.87087,     0.87187,     0.87287,     0.87387,     0.87487,     0.87588,     0.87688,     0.87788,     0.87888,     0.87988,     0.88088,     0.88188,     0.88288,     0.88388,     0.88488,     0.88589,     0.88689,     0.88789,\n",
              "           0.88889,     0.88989,     0.89089,     0.89189,     0.89289,     0.89389,     0.89489,      0.8959,      0.8969,      0.8979,      0.8989,      0.8999,      0.9009,      0.9019,      0.9029,      0.9039,      0.9049,     0.90591,     0.90691,     0.90791,     0.90891,     0.90991,     0.91091,     0.91191,\n",
              "           0.91291,     0.91391,     0.91491,     0.91592,     0.91692,     0.91792,     0.91892,     0.91992,     0.92092,     0.92192,     0.92292,     0.92392,     0.92492,     0.92593,     0.92693,     0.92793,     0.92893,     0.92993,     0.93093,     0.93193,     0.93293,     0.93393,     0.93493,     0.93594,\n",
              "           0.93694,     0.93794,     0.93894,     0.93994,     0.94094,     0.94194,     0.94294,     0.94394,     0.94494,     0.94595,     0.94695,     0.94795,     0.94895,     0.94995,     0.95095,     0.95195,     0.95295,     0.95395,     0.95495,     0.95596,     0.95696,     0.95796,     0.95896,     0.95996,\n",
              "           0.96096,     0.96196,     0.96296,     0.96396,     0.96496,     0.96597,     0.96697,     0.96797,     0.96897,     0.96997,     0.97097,     0.97197,     0.97297,     0.97397,     0.97497,     0.97598,     0.97698,     0.97798,     0.97898,     0.97998,     0.98098,     0.98198,     0.98298,     0.98398,\n",
              "           0.98498,     0.98599,     0.98699,     0.98799,     0.98899,     0.98999,     0.99099,     0.99199,     0.99299,     0.99399,     0.99499,       0.996,       0.997,       0.998,       0.999,           1]), array([[    0.33708,     0.33708,     0.48745, ...,           1,           1,           1],\n",
              "       [    0.34118,     0.34118,     0.45657, ...,           1,           1,           1],\n",
              "       [    0.26562,     0.26562,     0.40629, ...,           1,           1,           1],\n",
              "       ...,\n",
              "       [    0.27273,     0.27273,     0.44413, ...,           1,           1,           1],\n",
              "       [    0.40541,     0.40541,     0.51434, ...,           1,           1,           1],\n",
              "       [   0.036755,    0.036755,    0.060497, ...,           1,           1,           1]]), 'Confidence', 'Precision'], [array([          0,    0.001001,    0.002002,    0.003003,    0.004004,    0.005005,    0.006006,    0.007007,    0.008008,    0.009009,     0.01001,    0.011011,    0.012012,    0.013013,    0.014014,    0.015015,    0.016016,    0.017017,    0.018018,    0.019019,     0.02002,    0.021021,    0.022022,    0.023023,\n",
              "          0.024024,    0.025025,    0.026026,    0.027027,    0.028028,    0.029029,     0.03003,    0.031031,    0.032032,    0.033033,    0.034034,    0.035035,    0.036036,    0.037037,    0.038038,    0.039039,     0.04004,    0.041041,    0.042042,    0.043043,    0.044044,    0.045045,    0.046046,    0.047047,\n",
              "          0.048048,    0.049049,     0.05005,    0.051051,    0.052052,    0.053053,    0.054054,    0.055055,    0.056056,    0.057057,    0.058058,    0.059059,     0.06006,    0.061061,    0.062062,    0.063063,    0.064064,    0.065065,    0.066066,    0.067067,    0.068068,    0.069069,     0.07007,    0.071071,\n",
              "          0.072072,    0.073073,    0.074074,    0.075075,    0.076076,    0.077077,    0.078078,    0.079079,     0.08008,    0.081081,    0.082082,    0.083083,    0.084084,    0.085085,    0.086086,    0.087087,    0.088088,    0.089089,     0.09009,    0.091091,    0.092092,    0.093093,    0.094094,    0.095095,\n",
              "          0.096096,    0.097097,    0.098098,    0.099099,      0.1001,      0.1011,      0.1021,      0.1031,      0.1041,     0.10511,     0.10611,     0.10711,     0.10811,     0.10911,     0.11011,     0.11111,     0.11211,     0.11311,     0.11411,     0.11512,     0.11612,     0.11712,     0.11812,     0.11912,\n",
              "           0.12012,     0.12112,     0.12212,     0.12312,     0.12412,     0.12513,     0.12613,     0.12713,     0.12813,     0.12913,     0.13013,     0.13113,     0.13213,     0.13313,     0.13413,     0.13514,     0.13614,     0.13714,     0.13814,     0.13914,     0.14014,     0.14114,     0.14214,     0.14314,\n",
              "           0.14414,     0.14515,     0.14615,     0.14715,     0.14815,     0.14915,     0.15015,     0.15115,     0.15215,     0.15315,     0.15415,     0.15516,     0.15616,     0.15716,     0.15816,     0.15916,     0.16016,     0.16116,     0.16216,     0.16316,     0.16416,     0.16517,     0.16617,     0.16717,\n",
              "           0.16817,     0.16917,     0.17017,     0.17117,     0.17217,     0.17317,     0.17417,     0.17518,     0.17618,     0.17718,     0.17818,     0.17918,     0.18018,     0.18118,     0.18218,     0.18318,     0.18418,     0.18519,     0.18619,     0.18719,     0.18819,     0.18919,     0.19019,     0.19119,\n",
              "           0.19219,     0.19319,     0.19419,      0.1952,      0.1962,      0.1972,      0.1982,      0.1992,      0.2002,      0.2012,      0.2022,      0.2032,      0.2042,     0.20521,     0.20621,     0.20721,     0.20821,     0.20921,     0.21021,     0.21121,     0.21221,     0.21321,     0.21421,     0.21522,\n",
              "           0.21622,     0.21722,     0.21822,     0.21922,     0.22022,     0.22122,     0.22222,     0.22322,     0.22422,     0.22523,     0.22623,     0.22723,     0.22823,     0.22923,     0.23023,     0.23123,     0.23223,     0.23323,     0.23423,     0.23524,     0.23624,     0.23724,     0.23824,     0.23924,\n",
              "           0.24024,     0.24124,     0.24224,     0.24324,     0.24424,     0.24525,     0.24625,     0.24725,     0.24825,     0.24925,     0.25025,     0.25125,     0.25225,     0.25325,     0.25425,     0.25526,     0.25626,     0.25726,     0.25826,     0.25926,     0.26026,     0.26126,     0.26226,     0.26326,\n",
              "           0.26426,     0.26527,     0.26627,     0.26727,     0.26827,     0.26927,     0.27027,     0.27127,     0.27227,     0.27327,     0.27427,     0.27528,     0.27628,     0.27728,     0.27828,     0.27928,     0.28028,     0.28128,     0.28228,     0.28328,     0.28428,     0.28529,     0.28629,     0.28729,\n",
              "           0.28829,     0.28929,     0.29029,     0.29129,     0.29229,     0.29329,     0.29429,      0.2953,      0.2963,      0.2973,      0.2983,      0.2993,      0.3003,      0.3013,      0.3023,      0.3033,      0.3043,     0.30531,     0.30631,     0.30731,     0.30831,     0.30931,     0.31031,     0.31131,\n",
              "           0.31231,     0.31331,     0.31431,     0.31532,     0.31632,     0.31732,     0.31832,     0.31932,     0.32032,     0.32132,     0.32232,     0.32332,     0.32432,     0.32533,     0.32633,     0.32733,     0.32833,     0.32933,     0.33033,     0.33133,     0.33233,     0.33333,     0.33433,     0.33534,\n",
              "           0.33634,     0.33734,     0.33834,     0.33934,     0.34034,     0.34134,     0.34234,     0.34334,     0.34434,     0.34535,     0.34635,     0.34735,     0.34835,     0.34935,     0.35035,     0.35135,     0.35235,     0.35335,     0.35435,     0.35536,     0.35636,     0.35736,     0.35836,     0.35936,\n",
              "           0.36036,     0.36136,     0.36236,     0.36336,     0.36436,     0.36537,     0.36637,     0.36737,     0.36837,     0.36937,     0.37037,     0.37137,     0.37237,     0.37337,     0.37437,     0.37538,     0.37638,     0.37738,     0.37838,     0.37938,     0.38038,     0.38138,     0.38238,     0.38338,\n",
              "           0.38438,     0.38539,     0.38639,     0.38739,     0.38839,     0.38939,     0.39039,     0.39139,     0.39239,     0.39339,     0.39439,      0.3954,      0.3964,      0.3974,      0.3984,      0.3994,      0.4004,      0.4014,      0.4024,      0.4034,      0.4044,     0.40541,     0.40641,     0.40741,\n",
              "           0.40841,     0.40941,     0.41041,     0.41141,     0.41241,     0.41341,     0.41441,     0.41542,     0.41642,     0.41742,     0.41842,     0.41942,     0.42042,     0.42142,     0.42242,     0.42342,     0.42442,     0.42543,     0.42643,     0.42743,     0.42843,     0.42943,     0.43043,     0.43143,\n",
              "           0.43243,     0.43343,     0.43443,     0.43544,     0.43644,     0.43744,     0.43844,     0.43944,     0.44044,     0.44144,     0.44244,     0.44344,     0.44444,     0.44545,     0.44645,     0.44745,     0.44845,     0.44945,     0.45045,     0.45145,     0.45245,     0.45345,     0.45445,     0.45546,\n",
              "           0.45646,     0.45746,     0.45846,     0.45946,     0.46046,     0.46146,     0.46246,     0.46346,     0.46446,     0.46547,     0.46647,     0.46747,     0.46847,     0.46947,     0.47047,     0.47147,     0.47247,     0.47347,     0.47447,     0.47548,     0.47648,     0.47748,     0.47848,     0.47948,\n",
              "           0.48048,     0.48148,     0.48248,     0.48348,     0.48448,     0.48549,     0.48649,     0.48749,     0.48849,     0.48949,     0.49049,     0.49149,     0.49249,     0.49349,     0.49449,      0.4955,      0.4965,      0.4975,      0.4985,      0.4995,      0.5005,      0.5015,      0.5025,      0.5035,\n",
              "            0.5045,     0.50551,     0.50651,     0.50751,     0.50851,     0.50951,     0.51051,     0.51151,     0.51251,     0.51351,     0.51451,     0.51552,     0.51652,     0.51752,     0.51852,     0.51952,     0.52052,     0.52152,     0.52252,     0.52352,     0.52452,     0.52553,     0.52653,     0.52753,\n",
              "           0.52853,     0.52953,     0.53053,     0.53153,     0.53253,     0.53353,     0.53453,     0.53554,     0.53654,     0.53754,     0.53854,     0.53954,     0.54054,     0.54154,     0.54254,     0.54354,     0.54454,     0.54555,     0.54655,     0.54755,     0.54855,     0.54955,     0.55055,     0.55155,\n",
              "           0.55255,     0.55355,     0.55455,     0.55556,     0.55656,     0.55756,     0.55856,     0.55956,     0.56056,     0.56156,     0.56256,     0.56356,     0.56456,     0.56557,     0.56657,     0.56757,     0.56857,     0.56957,     0.57057,     0.57157,     0.57257,     0.57357,     0.57457,     0.57558,\n",
              "           0.57658,     0.57758,     0.57858,     0.57958,     0.58058,     0.58158,     0.58258,     0.58358,     0.58458,     0.58559,     0.58659,     0.58759,     0.58859,     0.58959,     0.59059,     0.59159,     0.59259,     0.59359,     0.59459,      0.5956,      0.5966,      0.5976,      0.5986,      0.5996,\n",
              "            0.6006,      0.6016,      0.6026,      0.6036,      0.6046,     0.60561,     0.60661,     0.60761,     0.60861,     0.60961,     0.61061,     0.61161,     0.61261,     0.61361,     0.61461,     0.61562,     0.61662,     0.61762,     0.61862,     0.61962,     0.62062,     0.62162,     0.62262,     0.62362,\n",
              "           0.62462,     0.62563,     0.62663,     0.62763,     0.62863,     0.62963,     0.63063,     0.63163,     0.63263,     0.63363,     0.63463,     0.63564,     0.63664,     0.63764,     0.63864,     0.63964,     0.64064,     0.64164,     0.64264,     0.64364,     0.64464,     0.64565,     0.64665,     0.64765,\n",
              "           0.64865,     0.64965,     0.65065,     0.65165,     0.65265,     0.65365,     0.65465,     0.65566,     0.65666,     0.65766,     0.65866,     0.65966,     0.66066,     0.66166,     0.66266,     0.66366,     0.66466,     0.66567,     0.66667,     0.66767,     0.66867,     0.66967,     0.67067,     0.67167,\n",
              "           0.67267,     0.67367,     0.67467,     0.67568,     0.67668,     0.67768,     0.67868,     0.67968,     0.68068,     0.68168,     0.68268,     0.68368,     0.68468,     0.68569,     0.68669,     0.68769,     0.68869,     0.68969,     0.69069,     0.69169,     0.69269,     0.69369,     0.69469,      0.6957,\n",
              "            0.6967,      0.6977,      0.6987,      0.6997,      0.7007,      0.7017,      0.7027,      0.7037,      0.7047,     0.70571,     0.70671,     0.70771,     0.70871,     0.70971,     0.71071,     0.71171,     0.71271,     0.71371,     0.71471,     0.71572,     0.71672,     0.71772,     0.71872,     0.71972,\n",
              "           0.72072,     0.72172,     0.72272,     0.72372,     0.72472,     0.72573,     0.72673,     0.72773,     0.72873,     0.72973,     0.73073,     0.73173,     0.73273,     0.73373,     0.73473,     0.73574,     0.73674,     0.73774,     0.73874,     0.73974,     0.74074,     0.74174,     0.74274,     0.74374,\n",
              "           0.74474,     0.74575,     0.74675,     0.74775,     0.74875,     0.74975,     0.75075,     0.75175,     0.75275,     0.75375,     0.75475,     0.75576,     0.75676,     0.75776,     0.75876,     0.75976,     0.76076,     0.76176,     0.76276,     0.76376,     0.76476,     0.76577,     0.76677,     0.76777,\n",
              "           0.76877,     0.76977,     0.77077,     0.77177,     0.77277,     0.77377,     0.77477,     0.77578,     0.77678,     0.77778,     0.77878,     0.77978,     0.78078,     0.78178,     0.78278,     0.78378,     0.78478,     0.78579,     0.78679,     0.78779,     0.78879,     0.78979,     0.79079,     0.79179,\n",
              "           0.79279,     0.79379,     0.79479,      0.7958,      0.7968,      0.7978,      0.7988,      0.7998,      0.8008,      0.8018,      0.8028,      0.8038,      0.8048,     0.80581,     0.80681,     0.80781,     0.80881,     0.80981,     0.81081,     0.81181,     0.81281,     0.81381,     0.81481,     0.81582,\n",
              "           0.81682,     0.81782,     0.81882,     0.81982,     0.82082,     0.82182,     0.82282,     0.82382,     0.82482,     0.82583,     0.82683,     0.82783,     0.82883,     0.82983,     0.83083,     0.83183,     0.83283,     0.83383,     0.83483,     0.83584,     0.83684,     0.83784,     0.83884,     0.83984,\n",
              "           0.84084,     0.84184,     0.84284,     0.84384,     0.84484,     0.84585,     0.84685,     0.84785,     0.84885,     0.84985,     0.85085,     0.85185,     0.85285,     0.85385,     0.85485,     0.85586,     0.85686,     0.85786,     0.85886,     0.85986,     0.86086,     0.86186,     0.86286,     0.86386,\n",
              "           0.86486,     0.86587,     0.86687,     0.86787,     0.86887,     0.86987,     0.87087,     0.87187,     0.87287,     0.87387,     0.87487,     0.87588,     0.87688,     0.87788,     0.87888,     0.87988,     0.88088,     0.88188,     0.88288,     0.88388,     0.88488,     0.88589,     0.88689,     0.88789,\n",
              "           0.88889,     0.88989,     0.89089,     0.89189,     0.89289,     0.89389,     0.89489,      0.8959,      0.8969,      0.8979,      0.8989,      0.8999,      0.9009,      0.9019,      0.9029,      0.9039,      0.9049,     0.90591,     0.90691,     0.90791,     0.90891,     0.90991,     0.91091,     0.91191,\n",
              "           0.91291,     0.91391,     0.91491,     0.91592,     0.91692,     0.91792,     0.91892,     0.91992,     0.92092,     0.92192,     0.92292,     0.92392,     0.92492,     0.92593,     0.92693,     0.92793,     0.92893,     0.92993,     0.93093,     0.93193,     0.93293,     0.93393,     0.93493,     0.93594,\n",
              "           0.93694,     0.93794,     0.93894,     0.93994,     0.94094,     0.94194,     0.94294,     0.94394,     0.94494,     0.94595,     0.94695,     0.94795,     0.94895,     0.94995,     0.95095,     0.95195,     0.95295,     0.95395,     0.95495,     0.95596,     0.95696,     0.95796,     0.95896,     0.95996,\n",
              "           0.96096,     0.96196,     0.96296,     0.96396,     0.96496,     0.96597,     0.96697,     0.96797,     0.96897,     0.96997,     0.97097,     0.97197,     0.97297,     0.97397,     0.97497,     0.97598,     0.97698,     0.97798,     0.97898,     0.97998,     0.98098,     0.98198,     0.98298,     0.98398,\n",
              "           0.98498,     0.98599,     0.98699,     0.98799,     0.98899,     0.98999,     0.99099,     0.99199,     0.99299,     0.99399,     0.99499,       0.996,       0.997,       0.998,       0.999,           1]), array([[          1,           1,           1, ...,           0,           0,           0],\n",
              "       [    0.96667,     0.96667,     0.96667, ...,           0,           0,           0],\n",
              "       [          1,           1,           1, ...,           0,           0,           0],\n",
              "       ...,\n",
              "       [          1,           1,           1, ...,           0,           0,           0],\n",
              "       [          1,           1,           1, ...,           0,           0,           0],\n",
              "       [          1,           1,           1, ...,           0,           0,           0]]), 'Confidence', 'Recall']]\n",
              "fitness: 0.8432013482516789\n",
              "keys: ['metrics/precision(B)', 'metrics/recall(B)', 'metrics/mAP50(B)', 'metrics/mAP50-95(B)']\n",
              "maps: array([    0.82841,     0.93602,     0.88998,     0.89829,     0.92156,     0.84429,     0.86971,      0.7948,     0.91854,     0.86097,     0.82841,     0.82841,     0.82344,     0.75533,     0.62486,     0.79911,     0.79516,        0.84,     0.82841,     0.86349,      0.6474])\n",
              "names: {0: 'bus_stop', 1: 'do_not_enter', 2: 'do_not_stop', 3: 'do_not_turn_l', 4: 'do_not_turn_r', 5: 'do_not_u_turn', 6: 'enter_left_lane', 7: 'green_light', 8: 'left_right_lane', 9: 'no_parking', 10: 'parking', 11: 'ped_crossing', 12: 'ped_zebra_cross', 13: 'railway_crossing', 14: 'red_light', 15: 'stop', 16: 't_intersection_l', 17: 'traffic_light', 18: 'u_turn', 19: 'warning', 20: 'yellow_light'}\n",
              "plot: True\n",
              "results_dict: {'metrics/precision(B)': 0.9669504615333567, 'metrics/recall(B)': 0.9346807168039052, 'metrics/mAP50(B)': 0.9763252098669739, 'metrics/mAP50-95(B)': 0.8284098080722017, 'fitness': 0.8432013482516789}\n",
              "save_dir: PosixPath('runs/detect/train3')\n",
              "speed: {'preprocess': 0.30204751452461615, 'inference': 10.15610089067553, 'loss': 0.0005799238799048252, 'postprocess': 2.768904947843708}\n",
              "task: 'detect'"
            ]
          },
          "metadata": {},
          "execution_count": 7
        }
      ]
    },
    {
      "cell_type": "code",
      "source": [
        "import locale\n",
        "locale.getpreferredencoding = lambda: \"UTF-8\""
      ],
      "metadata": {
        "id": "ofLJDdlFpPHy"
      },
      "execution_count": null,
      "outputs": []
    },
    {
      "cell_type": "code",
      "source": [
        "!yolo task=detect mode=predict model=/content/runs/detect/train3/weights/best.pt conf=0.5 source=/content/road-signs-2/test/images save_txt=true save_conf=true"
      ],
      "metadata": {
        "colab": {
          "base_uri": "https://localhost:8080/"
        },
        "id": "UlUf86aaQMMQ",
        "outputId": "17c52018-78fe-4ca1-d975-87f66b33d266"
      },
      "execution_count": null,
      "outputs": [
        {
          "output_type": "stream",
          "name": "stdout",
          "text": [
            "Ultralytics YOLOv8.2.9 🚀 Python-3.10.12 torch-2.2.1+cu121 CUDA:0 (Tesla T4, 15102MiB)\n",
            "Model summary (fused): 218 layers, 25851919 parameters, 0 gradients, 78.8 GFLOPs\n",
            "\n",
            "image 1/229 /content/road-signs-2/test/images/perintah-pilihan-memasuki-salah-satu-jalur--64-_jpg.rf.ca52a211513d363023f41d44160b6c6a.jpg: 640x640 1 left_right_lane, 37.3ms\n",
            "image 2/229 /content/road-signs-2/test/images/perintah-pilihan-memasuki-salah-satu-jalur--66-_jpg.rf.d7da089766ebc56b25d725d23400241d.jpg: 640x640 1 left_right_lane, 37.3ms\n",
            "image 3/229 /content/road-signs-2/test/images/perintah-pilihan-memasuki-salah-satu-jalur--67-_jpg.rf.1f52990ceee7e516138ad06c843397dc.jpg: 640x640 1 left_right_lane, 37.2ms\n",
            "image 4/229 /content/road-signs-2/test/images/perintah-pilihan-memasuki-salah-satu-jalur--68-_jpg.rf.de641d7695fdd5741b174a0c424c3e68.jpg: 640x640 1 left_right_lane, 37.3ms\n",
            "image 5/229 /content/road-signs-2/test/images/perintah-pilihan-memasuki-salah-satu-jalur--69-_jpg.rf.92d2e734426473931270b421b2a3911d.jpg: 640x640 1 left_right_lane, 32.9ms\n",
            "image 6/229 /content/road-signs-2/test/images/perintah-pilihan-memasuki-salah-satu-jalur--7-_jpg.rf.bbd3499ab5466239f57f8dd68a0e71c9.jpg: 640x640 1 left_right_lane, 24.5ms\n",
            "image 7/229 /content/road-signs-2/test/images/perintah-pilihan-memasuki-salah-satu-jalur--70-_jpg.rf.abb61f54ae69997e71128cfd755fb6fb.jpg: 640x640 1 left_right_lane, 24.5ms\n",
            "image 8/229 /content/road-signs-2/test/images/perintah-pilihan-memasuki-salah-satu-jalur--8-_jpg.rf.6979451bfa6556e3612eee517e5b818f.jpg: 640x640 1 left_right_lane, 24.3ms\n",
            "image 9/229 /content/road-signs-2/test/images/perintah-pilihan-memasuki-salah-satu-jalur--9-_jpg.rf.0e36ea81b0a638ab13a2016dd5b3eeb0.jpg: 640x640 1 left_right_lane, 24.4ms\n",
            "image 10/229 /content/road-signs-2/test/images/petunjuk-area-parkir--1-_jpg.rf.0fb9de4da7d6560a60a2978cba208d08.jpg: 640x640 1 parking, 19.6ms\n",
            "image 11/229 /content/road-signs-2/test/images/petunjuk-area-parkir--10-_jpg.rf.72d20c87dfdc0306c50eff7359728d78.jpg: 640x640 1 parking, 19.0ms\n",
            "image 12/229 /content/road-signs-2/test/images/petunjuk-area-parkir--11-_jpg.rf.13891af63bf0077e607e7054e40aa56d.jpg: 640x640 1 parking, 19.1ms\n",
            "image 13/229 /content/road-signs-2/test/images/petunjuk-area-parkir--12-_jpg.rf.d716d588f0a2c51e0df6b116b2d8e8e7.jpg: 640x640 1 parking, 19.1ms\n",
            "image 14/229 /content/road-signs-2/test/images/petunjuk-area-parkir--13-_jpg.rf.823bfc260732a8ececaf8f07aceb39f8.jpg: 640x640 1 parking, 19.0ms\n",
            "image 15/229 /content/road-signs-2/test/images/petunjuk-area-parkir--14-_jpg.rf.4191e8c59bce27fef5155b4160d2ea4a.jpg: 640x640 1 parking, 18.4ms\n",
            "image 16/229 /content/road-signs-2/test/images/petunjuk-area-parkir--15-_jpg.rf.1bb10c74aead3a97ad2d90abc41af89a.jpg: 640x640 1 bus_stop, 17.5ms\n",
            "image 17/229 /content/road-signs-2/test/images/petunjuk-area-parkir--16-_jpg.rf.56ae2cf266e5cf6db89b4966ce25b689.jpg: 640x640 1 parking, 17.8ms\n",
            "image 18/229 /content/road-signs-2/test/images/petunjuk-area-parkir--17-_jpg.rf.2b463cdeb606c4ae3b4d2ab617588bf4.jpg: 640x640 1 parking, 17.9ms\n",
            "image 19/229 /content/road-signs-2/test/images/petunjuk-area-parkir--18-_jpg.rf.786de2820187f018528b99168f62679a.jpg: 640x640 (no detections), 17.7ms\n",
            "image 20/229 /content/road-signs-2/test/images/petunjuk-area-parkir--19-_jpg.rf.280c04c2f452db55dadebb0401b66735.jpg: 640x640 1 parking, 17.5ms\n",
            "image 21/229 /content/road-signs-2/test/images/petunjuk-area-parkir--2-_jpg.rf.fc46247b1dc907eb494a51c8aaa3eec6.jpg: 640x640 1 parking, 17.3ms\n",
            "image 22/229 /content/road-signs-2/test/images/petunjuk-area-parkir--20-_jpg.rf.c876601d8d557f566460014a4f27fa8c.jpg: 640x640 1 bus_stop, 17.6ms\n",
            "image 23/229 /content/road-signs-2/test/images/petunjuk-area-parkir--21-_jpg.rf.de5f61c4a634e71e444938abd4f248ac.jpg: 640x640 1 parking, 17.7ms\n",
            "image 24/229 /content/road-signs-2/test/images/petunjuk-area-parkir--22-_jpg.rf.9e6682b3e77544df83d1090ed3f0c522.jpg: 640x640 (no detections), 18.0ms\n",
            "image 25/229 /content/road-signs-2/test/images/petunjuk-area-parkir--23-_jpg.rf.a18d697b77b0de84f16aab9f11a2e09c.jpg: 640x640 1 parking, 18.1ms\n",
            "image 26/229 /content/road-signs-2/test/images/petunjuk-area-parkir--24-_jpg.rf.d0e3216502bd1897a1039f8832e060f9.jpg: 640x640 1 parking, 17.8ms\n",
            "image 27/229 /content/road-signs-2/test/images/petunjuk-area-parkir--25-_jpg.rf.2a104abb79338c20179b4a4890ae7033.jpg: 640x640 1 parking, 17.6ms\n",
            "image 28/229 /content/road-signs-2/test/images/petunjuk-area-parkir--26-_jpg.rf.686dac64391fd61b73f1e46ef766be8e.jpg: 640x640 1 parking, 17.9ms\n",
            "image 29/229 /content/road-signs-2/test/images/petunjuk-area-parkir--27-_jpg.rf.4376cdc469076ddd15360527d586d498.jpg: 640x640 (no detections), 18.0ms\n",
            "image 30/229 /content/road-signs-2/test/images/petunjuk-area-parkir--28-_jpg.rf.0626ef27761380cf33d3ad23686aee88.jpg: 640x640 1 parking, 17.6ms\n",
            "image 31/229 /content/road-signs-2/test/images/petunjuk-area-parkir--29-_jpg.rf.be17a2c25dc0058d0d06e7482229ccfb.jpg: 640x640 1 parking, 17.3ms\n",
            "image 32/229 /content/road-signs-2/test/images/petunjuk-area-parkir--3-_jpg.rf.201573447a0af152295ff0b4de1e1e68.jpg: 640x640 1 parking, 17.1ms\n",
            "image 33/229 /content/road-signs-2/test/images/petunjuk-area-parkir--30-_jpg.rf.5547d501952b7ad4082c100b28df5883.jpg: 640x640 1 parking, 17.1ms\n",
            "image 34/229 /content/road-signs-2/test/images/petunjuk-area-parkir--31-_jpg.rf.2182efe38138612b8af96d9ae0ee2ca0.jpg: 640x640 1 parking, 17.5ms\n",
            "image 35/229 /content/road-signs-2/test/images/petunjuk-area-parkir--32-_jpg.rf.59a119ddc2c44ed1d9336ef5b63b49b1.jpg: 640x640 1 parking, 18.3ms\n",
            "image 36/229 /content/road-signs-2/test/images/petunjuk-area-parkir--33-_jpg.rf.79412762f981f13f554da772487ed0f4.jpg: 640x640 1 parking, 17.7ms\n",
            "image 37/229 /content/road-signs-2/test/images/petunjuk-area-parkir--34-_jpg.rf.e5eaa18e68ca3474c0b62649d4b99b96.jpg: 640x640 1 enter_left_lane, 17.3ms\n",
            "image 38/229 /content/road-signs-2/test/images/petunjuk-area-parkir--35-_jpg.rf.48ec6f9da5247683fdcfae6f35f2164b.jpg: 640x640 1 enter_left_lane, 17.1ms\n",
            "image 39/229 /content/road-signs-2/test/images/petunjuk-area-parkir--36-_jpg.rf.8cb9b3685e02bef72cec16f5f0ef0c36.jpg: 640x640 (no detections), 17.1ms\n",
            "image 40/229 /content/road-signs-2/test/images/petunjuk-area-parkir--37-_jpg.rf.a464e569b8f78eef741b726a175a2767.jpg: 640x640 1 parking, 17.1ms\n",
            "image 41/229 /content/road-signs-2/test/images/petunjuk-area-parkir--38-_jpg.rf.bafb145f119640e4eeb564299770c279.jpg: 640x640 1 parking, 17.6ms\n",
            "image 42/229 /content/road-signs-2/test/images/petunjuk-area-parkir--39-_jpg.rf.ad0a95f47ae3a91817fb346797996e2c.jpg: 640x640 1 parking, 17.8ms\n",
            "image 43/229 /content/road-signs-2/test/images/petunjuk-area-parkir--4-_jpg.rf.a7bd9323d4e0962f73c3b6668e8c88d0.jpg: 640x640 1 parking, 18.1ms\n",
            "image 44/229 /content/road-signs-2/test/images/petunjuk-area-parkir--40-_jpg.rf.481aba46777ddd33a4e11b016127078f.jpg: 640x640 1 do_not_turn_l, 1 parking, 17.7ms\n",
            "image 45/229 /content/road-signs-2/test/images/petunjuk-area-parkir--41-_jpg.rf.7fa1fc8a45ddf655a7cf52aa9fab225c.jpg: 640x640 1 parking, 17.1ms\n",
            "image 46/229 /content/road-signs-2/test/images/petunjuk-area-parkir--42-_jpg.rf.2f404cc3b7772da8ad6414f167d3033d.jpg: 640x640 1 parking, 17.0ms\n",
            "image 47/229 /content/road-signs-2/test/images/petunjuk-area-parkir--43-_jpg.rf.f06e443ae4f57cbaabdd0758a4b7a031.jpg: 640x640 1 parking, 17.3ms\n",
            "image 48/229 /content/road-signs-2/test/images/petunjuk-area-parkir--44-_jpg.rf.1c11f3c7dfbf22204106b0854615e0bf.jpg: 640x640 1 parking, 17.8ms\n",
            "image 49/229 /content/road-signs-2/test/images/petunjuk-area-parkir--45-_jpg.rf.cf78d540b916e97dbd7cf577def4399f.jpg: 640x640 1 parking, 18.1ms\n",
            "image 50/229 /content/road-signs-2/test/images/petunjuk-area-parkir--46-_jpg.rf.67c43a10ce72f77a69e3623bf2f716cc.jpg: 640x640 1 parking, 17.3ms\n",
            "image 51/229 /content/road-signs-2/test/images/petunjuk-area-parkir--47-_jpg.rf.fe252955d924c8b9f72fd8792fdc3759.jpg: 640x640 1 parking, 17.0ms\n",
            "image 52/229 /content/road-signs-2/test/images/petunjuk-area-parkir--48-_jpg.rf.4b3e2e1b8eb14f4163edb2d8de1adce8.jpg: 640x640 (no detections), 17.6ms\n",
            "image 53/229 /content/road-signs-2/test/images/petunjuk-area-parkir--49-_jpg.rf.d5d05c62b86efb7a469f5811f90ba5f2.jpg: 640x640 1 parking, 18.3ms\n",
            "image 54/229 /content/road-signs-2/test/images/petunjuk-area-parkir--5-_jpg.rf.de627f47b82b7844c9596b569bd65dab.jpg: 640x640 1 parking, 17.2ms\n",
            "image 55/229 /content/road-signs-2/test/images/petunjuk-area-parkir--50-_jpg.rf.819cc9f478da27943815003906c6ac8e.jpg: 640x640 1 parking, 17.5ms\n",
            "image 56/229 /content/road-signs-2/test/images/petunjuk-area-parkir--51-_jpg.rf.c7bb9325a265017554ac35fed5a80967.jpg: 640x640 1 parking, 17.2ms\n",
            "image 57/229 /content/road-signs-2/test/images/petunjuk-area-parkir--52-_jpg.rf.b56887ae8566286ba365d219b6064835.jpg: 640x640 1 parking, 17.4ms\n",
            "image 58/229 /content/road-signs-2/test/images/petunjuk-area-parkir--53-_jpg.rf.a20f83084c383422457dc6ac56f80412.jpg: 640x640 1 parking, 18.0ms\n",
            "image 59/229 /content/road-signs-2/test/images/petunjuk-area-parkir--54-_jpg.rf.9c9c86b8104a664e4a5535717e32240d.jpg: 640x640 1 parking, 17.7ms\n",
            "image 60/229 /content/road-signs-2/test/images/petunjuk-area-parkir--55-_jpg.rf.40ad05d1ff6d652b9207410d6f0b84a4.jpg: 640x640 1 parking, 17.4ms\n",
            "image 61/229 /content/road-signs-2/test/images/petunjuk-area-parkir--56-_jpg.rf.0e348a7030bdc33734c61d0b07802f47.jpg: 640x640 1 parking, 17.0ms\n",
            "image 62/229 /content/road-signs-2/test/images/petunjuk-area-parkir--57-_jpg.rf.52a67c065ad363811eb120aa15aab91c.jpg: 640x640 1 parking, 17.2ms\n",
            "image 63/229 /content/road-signs-2/test/images/petunjuk-area-parkir--58-_jpg.rf.0f72cc87f0c631be48c94cb2c2e96d62.jpg: 640x640 1 parking, 17.6ms\n",
            "image 64/229 /content/road-signs-2/test/images/petunjuk-area-parkir--59-_jpg.rf.a6e6e57e3449aa967a12cbcf2258fc37.jpg: 640x640 1 parking, 18.0ms\n",
            "image 65/229 /content/road-signs-2/test/images/petunjuk-area-parkir--6-_jpg.rf.2e99fc24bc7406c4f5083846b53f24af.jpg: 640x640 1 parking, 17.4ms\n",
            "image 66/229 /content/road-signs-2/test/images/petunjuk-area-parkir--60-_jpg.rf.b4d24faa191eb3e2c7da2977a509394b.jpg: 640x640 1 parking, 17.3ms\n",
            "image 67/229 /content/road-signs-2/test/images/petunjuk-area-parkir--61-_jpg.rf.dfbca3e4c342bba588b2f0f2350eadb6.jpg: 640x640 1 parking, 17.5ms\n",
            "image 68/229 /content/road-signs-2/test/images/petunjuk-area-parkir--62-_jpg.rf.40a47bd1f5dde15c32eb6d3a4b765132.jpg: 640x640 1 parking, 18.0ms\n",
            "image 69/229 /content/road-signs-2/test/images/petunjuk-area-parkir--63-_jpg.rf.7a81dab36b2a75a4ab9110e4be887947.jpg: 640x640 1 parking, 17.5ms\n",
            "image 70/229 /content/road-signs-2/test/images/petunjuk-area-parkir--64-_jpg.rf.0e749013094c140d0333dff84cb77ad4.jpg: 640x640 1 parking, 17.1ms\n",
            "image 71/229 /content/road-signs-2/test/images/petunjuk-area-parkir--65-_jpg.rf.b221994ca7645b9b65b731107045aa54.jpg: 640x640 1 parking, 17.3ms\n",
            "image 72/229 /content/road-signs-2/test/images/petunjuk-area-parkir--66-_jpg.rf.85686252ad89f5744a21f9a4ffe7105f.jpg: 640x640 1 parking, 18.0ms\n",
            "image 73/229 /content/road-signs-2/test/images/petunjuk-area-parkir--67-_jpg.rf.a1b43561bccfabe7569626a3813f50d2.jpg: 640x640 1 parking, 17.9ms\n",
            "image 74/229 /content/road-signs-2/test/images/petunjuk-area-parkir--68-_jpg.rf.73b5a44b66c00c2be6d2b25929b7b72e.jpg: 640x640 1 parking, 17.3ms\n",
            "image 75/229 /content/road-signs-2/test/images/petunjuk-area-parkir--69-_jpg.rf.071175955b48476a7f1f75f09dc632d9.jpg: 640x640 1 parking, 17.5ms\n",
            "image 76/229 /content/road-signs-2/test/images/petunjuk-area-parkir--7-_jpg.rf.983ef50269ce3a9cb6d033ba67e6279d.jpg: 640x640 1 parking, 17.9ms\n",
            "image 77/229 /content/road-signs-2/test/images/petunjuk-area-parkir--70-_jpg.rf.3594d61ccf5598e93791a79e7ad47aa2.jpg: 640x640 1 parking, 18.1ms\n",
            "image 78/229 /content/road-signs-2/test/images/petunjuk-area-parkir--8-_jpg.rf.1ccf12b61e653812c15f1305a5e9e777.jpg: 640x640 (no detections), 17.6ms\n",
            "image 79/229 /content/road-signs-2/test/images/petunjuk-area-parkir--9-_jpg.rf.5a9ea893b08c53ecb0050f193e94df6d.jpg: 640x640 1 parking, 17.2ms\n",
            "image 80/229 /content/road-signs-2/test/images/petunjuk-lokasi-pemberhentian-bus--1-_jpg.rf.40b0894751a3dff87555e05ca34f182e.jpg: 640x640 1 bus_stop, 17.5ms\n",
            "image 81/229 /content/road-signs-2/test/images/petunjuk-lokasi-pemberhentian-bus--10-_jpg.rf.93d9969f649aaa612f8d2cd732016ce1.jpg: 640x640 1 bus_stop, 18.3ms\n",
            "image 82/229 /content/road-signs-2/test/images/petunjuk-lokasi-pemberhentian-bus--11-_jpg.rf.fbb5dd12b44867fc2b4be099686d70fd.jpg: 640x640 1 bus_stop, 17.6ms\n",
            "image 83/229 /content/road-signs-2/test/images/petunjuk-lokasi-pemberhentian-bus--12-_jpg.rf.06836782414c2911ca91577bd971776e.jpg: 640x640 (no detections), 17.4ms\n",
            "image 84/229 /content/road-signs-2/test/images/petunjuk-lokasi-pemberhentian-bus--13-_jpg.rf.f3c86404eafdfc12fadc3630e08f7c87.jpg: 640x640 1 bus_stop, 17.5ms\n",
            "image 85/229 /content/road-signs-2/test/images/petunjuk-lokasi-pemberhentian-bus--14-_jpg.rf.c65c67791d4f71e8c706a816a87294e8.jpg: 640x640 1 bus_stop, 17.4ms\n",
            "image 86/229 /content/road-signs-2/test/images/petunjuk-lokasi-pemberhentian-bus--15-_jpg.rf.7d3bcd5a01cc5c54e34830607dafcf9e.jpg: 640x640 1 bus_stop, 1 stop, 17.6ms\n",
            "image 87/229 /content/road-signs-2/test/images/petunjuk-lokasi-pemberhentian-bus--16-_jpg.rf.b8d75d5f38bcbc0ca427a390b7fb0205.jpg: 640x640 1 bus_stop, 18.1ms\n",
            "image 88/229 /content/road-signs-2/test/images/petunjuk-lokasi-pemberhentian-bus--17-_jpg.rf.920b9b99b0d19bbb1327958efe06cda3.jpg: 640x640 1 bus_stop, 18.0ms\n",
            "image 89/229 /content/road-signs-2/test/images/petunjuk-lokasi-pemberhentian-bus--18-_jpg.rf.1eb5e8f3baae93c32b73b6d3f26e7fbb.jpg: 640x640 1 bus_stop, 17.4ms\n",
            "image 90/229 /content/road-signs-2/test/images/petunjuk-lokasi-pemberhentian-bus--19-_jpg.rf.ab72c1d6da042f38d02bfa21f7f3e68d.jpg: 640x640 1 bus_stop, 17.3ms\n",
            "image 91/229 /content/road-signs-2/test/images/petunjuk-lokasi-pemberhentian-bus--2-_jpg.rf.34592e8ce3238e55ae44a4c37e639bbd.jpg: 640x640 1 bus_stop, 17.6ms\n",
            "image 92/229 /content/road-signs-2/test/images/petunjuk-lokasi-pemberhentian-bus--20-_jpg.rf.115ec1e63be06fe2db02f5916fb46eba.jpg: 640x640 (no detections), 18.0ms\n",
            "image 93/229 /content/road-signs-2/test/images/petunjuk-lokasi-pemberhentian-bus--21-_jpg.rf.6a4adc2855cd83f96f7114cf26a5837e.jpg: 640x640 1 bus_stop, 18.2ms\n",
            "image 94/229 /content/road-signs-2/test/images/petunjuk-lokasi-pemberhentian-bus--22-_jpg.rf.c89fc1f01607c855d914fdf838fc9e59.jpg: 640x640 1 bus_stop, 17.6ms\n",
            "image 95/229 /content/road-signs-2/test/images/petunjuk-lokasi-pemberhentian-bus--23-_jpg.rf.6b35b8089d1051f75d45ae39f7804b32.jpg: 640x640 2 parkings, 17.2ms\n",
            "image 96/229 /content/road-signs-2/test/images/petunjuk-lokasi-pemberhentian-bus--24-_jpg.rf.34cbf71a3b4c344e3cdb3eea4d11614a.jpg: 640x640 1 bus_stop, 17.1ms\n",
            "image 97/229 /content/road-signs-2/test/images/petunjuk-lokasi-pemberhentian-bus--25-_jpg.rf.7af4f9722e9c3a9e8596375227c22f6e.jpg: 640x640 1 bus_stop, 1 parking, 17.1ms\n",
            "image 98/229 /content/road-signs-2/test/images/petunjuk-lokasi-pemberhentian-bus--26-_jpg.rf.ffec449efd0a8079d5d0a32c70afa698.jpg: 640x640 1 parking, 17.6ms\n",
            "image 99/229 /content/road-signs-2/test/images/petunjuk-lokasi-pemberhentian-bus--27-_jpg.rf.96c27df8bb9f82c3677d98f724045bf2.jpg: 640x640 1 parking, 17.5ms\n",
            "image 100/229 /content/road-signs-2/test/images/petunjuk-lokasi-pemberhentian-bus--28-_jpg.rf.e17b2dbdc38e93c3ea8de7cfca1050b7.jpg: 640x640 1 parking, 17.9ms\n",
            "image 101/229 /content/road-signs-2/test/images/petunjuk-lokasi-pemberhentian-bus--29-_jpg.rf.97e831b573bfddaaca6486b34dd0b051.jpg: 640x640 1 parking, 18.0ms\n",
            "image 102/229 /content/road-signs-2/test/images/petunjuk-lokasi-pemberhentian-bus--3-_jpg.rf.2592360db68cc0c3f11a8d83f5dff3de.jpg: 640x640 1 bus_stop, 18.1ms\n",
            "image 103/229 /content/road-signs-2/test/images/petunjuk-lokasi-pemberhentian-bus--30-_jpg.rf.32cb9de2da84db525d9eda550ab11af1.jpg: 640x640 1 bus_stop, 17.8ms\n",
            "image 104/229 /content/road-signs-2/test/images/petunjuk-lokasi-pemberhentian-bus--31-_jpg.rf.ee9dd7b2ff3e7fb43df1ce3181e6a962.jpg: 640x640 1 bus_stop, 17.6ms\n",
            "image 105/229 /content/road-signs-2/test/images/petunjuk-lokasi-pemberhentian-bus--32-_jpg.rf.1f87f7ece386b96a41a7bf1978315e76.jpg: 640x640 (no detections), 17.2ms\n",
            "image 106/229 /content/road-signs-2/test/images/petunjuk-lokasi-pemberhentian-bus--33-_jpg.rf.74f54abd6d34673f28e58295cfe80427.jpg: 640x640 (no detections), 17.3ms\n",
            "image 107/229 /content/road-signs-2/test/images/petunjuk-lokasi-pemberhentian-bus--34-_jpg.rf.5ddc2f5f0f8e1139ba0254a9f2aa7df7.jpg: 640x640 1 bus_stop, 18.0ms\n",
            "image 108/229 /content/road-signs-2/test/images/petunjuk-lokasi-pemberhentian-bus--35-_jpg.rf.749617aa5069217287e9fcc2ad330a2a.jpg: 640x640 1 bus_stop, 18.0ms\n",
            "image 109/229 /content/road-signs-2/test/images/petunjuk-lokasi-pemberhentian-bus--36-_jpg.rf.244f32d78a88489a430d1db5c42e41ba.jpg: 640x640 1 bus_stop, 17.3ms\n",
            "image 110/229 /content/road-signs-2/test/images/petunjuk-lokasi-pemberhentian-bus--37-_jpg.rf.26b482ad7c7248d252717d3f0b7dcf4e.jpg: 640x640 1 bus_stop, 17.8ms\n",
            "image 111/229 /content/road-signs-2/test/images/petunjuk-lokasi-pemberhentian-bus--38-_jpg.rf.08a4398502a5bcdb2517e692c8e60cd0.jpg: 640x640 1 bus_stop, 17.4ms\n",
            "image 112/229 /content/road-signs-2/test/images/petunjuk-lokasi-pemberhentian-bus--39-_jpg.rf.52f63e21e184e747cc927a37b9b3e93f.jpg: 640x640 1 bus_stop, 17.3ms\n",
            "image 113/229 /content/road-signs-2/test/images/petunjuk-lokasi-pemberhentian-bus--4-_jpg.rf.62d615ed1d071eabc7003f2b92ec5eb4.jpg: 640x640 1 bus_stop, 17.9ms\n",
            "image 114/229 /content/road-signs-2/test/images/petunjuk-lokasi-pemberhentian-bus--40-_jpg.rf.d11d4f61716796623561ecd096d4c464.jpg: 640x640 1 bus_stop, 18.0ms\n",
            "image 115/229 /content/road-signs-2/test/images/petunjuk-lokasi-pemberhentian-bus--41-_jpg.rf.77810984b210f9e0b93ae83b641b2007.jpg: 640x640 2 bus_stops, 17.5ms\n",
            "image 116/229 /content/road-signs-2/test/images/petunjuk-lokasi-pemberhentian-bus--42-_jpg.rf.b48b6e8045a6f36de20de33bbe778158.jpg: 640x640 1 bus_stop, 17.3ms\n",
            "image 117/229 /content/road-signs-2/test/images/petunjuk-lokasi-pemberhentian-bus--43-_jpg.rf.3487a068b89b6c1d42d842bf661cca1b.jpg: 640x640 1 bus_stop, 17.3ms\n",
            "image 118/229 /content/road-signs-2/test/images/petunjuk-lokasi-pemberhentian-bus--44-_jpg.rf.59d0201fd47227a669864c6d569a6178.jpg: 640x640 1 bus_stop, 17.6ms\n",
            "image 119/229 /content/road-signs-2/test/images/petunjuk-lokasi-pemberhentian-bus--45-_jpg.rf.84f2c73b6052ae65f74e304a6836291a.jpg: 640x640 1 bus_stop, 17.8ms\n",
            "image 120/229 /content/road-signs-2/test/images/petunjuk-lokasi-pemberhentian-bus--46-_jpg.rf.693fd8302859535f293a7a3309e528c8.jpg: 640x640 1 bus_stop, 18.1ms\n",
            "image 121/229 /content/road-signs-2/test/images/petunjuk-lokasi-pemberhentian-bus--47-_jpg.rf.f9b974aecdc5e1954dc6a73e8d113e2a.jpg: 640x640 1 bus_stop, 17.5ms\n",
            "image 122/229 /content/road-signs-2/test/images/petunjuk-lokasi-pemberhentian-bus--48-_jpg.rf.3d55062f1d7a6a31c24d6ccff2c41ff9.jpg: 640x640 1 bus_stop, 17.4ms\n",
            "image 123/229 /content/road-signs-2/test/images/petunjuk-lokasi-pemberhentian-bus--49-_jpg.rf.a24152aa7c613171e587b899c25303e4.jpg: 640x640 1 bus_stop, 17.5ms\n",
            "image 124/229 /content/road-signs-2/test/images/petunjuk-lokasi-pemberhentian-bus--5-_jpg.rf.8d0718c0e2d6bd7d012c06327e354e90.jpg: 640x640 1 bus_stop, 17.5ms\n",
            "image 125/229 /content/road-signs-2/test/images/petunjuk-lokasi-pemberhentian-bus--50-_jpg.rf.eddd0249d1917de5116f4b13f8e102ae.jpg: 640x640 1 bus_stop, 17.8ms\n",
            "image 126/229 /content/road-signs-2/test/images/petunjuk-lokasi-pemberhentian-bus--51-_jpg.rf.d30ca6a3763f82c990cae5ac74a71281.jpg: 640x640 1 bus_stop, 18.1ms\n",
            "image 127/229 /content/road-signs-2/test/images/petunjuk-lokasi-pemberhentian-bus--52-_jpg.rf.ee7f3fbf5e9aebab03c86884e9d2bfe0.jpg: 640x640 1 bus_stop, 17.7ms\n",
            "image 128/229 /content/road-signs-2/test/images/petunjuk-lokasi-pemberhentian-bus--53-_jpg.rf.90e6661bb2664db2cb78498b4deef9f9.jpg: 640x640 1 bus_stop, 17.3ms\n",
            "image 129/229 /content/road-signs-2/test/images/petunjuk-lokasi-pemberhentian-bus--54-_jpg.rf.a1a9916370e6b2cdf4902f06df26050d.jpg: 640x640 1 bus_stop, 17.4ms\n",
            "image 130/229 /content/road-signs-2/test/images/petunjuk-lokasi-pemberhentian-bus--55-_jpg.rf.a60c36e5d9defe6c57dbd62a6f8f9da0.jpg: 640x640 1 bus_stop, 17.9ms\n",
            "image 131/229 /content/road-signs-2/test/images/petunjuk-lokasi-pemberhentian-bus--56-_jpg.rf.5a395126e45e9ae4b00e249f539a8187.jpg: 640x640 1 bus_stop, 18.0ms\n",
            "image 132/229 /content/road-signs-2/test/images/petunjuk-lokasi-pemberhentian-bus--57-_jpg.rf.511e3714538c4d87da1103c9ca1ef137.jpg: 640x640 1 bus_stop, 17.3ms\n",
            "image 133/229 /content/road-signs-2/test/images/petunjuk-lokasi-pemberhentian-bus--58-_jpg.rf.22049ee796376da5afc49f8e6079e35f.jpg: 640x640 1 bus_stop, 17.4ms\n",
            "image 134/229 /content/road-signs-2/test/images/petunjuk-lokasi-pemberhentian-bus--59-_jpg.rf.8e8dfcd5083fe3c253b599011b7464a6.jpg: 640x640 1 bus_stop, 17.9ms\n",
            "image 135/229 /content/road-signs-2/test/images/petunjuk-lokasi-pemberhentian-bus--6-_jpg.rf.dcc0376c9e3e2f2330eb14187eb34341.jpg: 640x640 1 bus_stop, 17.9ms\n",
            "image 136/229 /content/road-signs-2/test/images/petunjuk-lokasi-pemberhentian-bus--60-_jpg.rf.3faa2cfa95581579eab77cd1ce1664a5.jpg: 640x640 1 bus_stop, 17.8ms\n",
            "image 137/229 /content/road-signs-2/test/images/petunjuk-lokasi-pemberhentian-bus--61-_jpg.rf.ce8f6a1dd85d305613194057c5338c6f.jpg: 640x640 1 bus_stop, 17.1ms\n",
            "image 138/229 /content/road-signs-2/test/images/petunjuk-lokasi-pemberhentian-bus--62-_jpg.rf.95ec253a88b94711af4fd6c751bb4c5a.jpg: 640x640 1 bus_stop, 1 do_not_stop, 17.1ms\n",
            "image 139/229 /content/road-signs-2/test/images/petunjuk-lokasi-pemberhentian-bus--63-_jpg.rf.a49a78f7b666338232ab15dcfcdde5ea.jpg: 640x640 1 bus_stop, 1 do_not_stop, 16.9ms\n",
            "image 140/229 /content/road-signs-2/test/images/petunjuk-lokasi-pemberhentian-bus--64-_jpg.rf.619c6a9d1251dd5c72a858070a299856.jpg: 640x640 1 bus_stop, 1 do_not_stop, 16.9ms\n",
            "image 141/229 /content/road-signs-2/test/images/petunjuk-lokasi-pemberhentian-bus--65-_jpg.rf.d9ecaa7a7c8205bd7d15029eba0ab4e7.jpg: 640x640 1 bus_stop, 17.0ms\n",
            "image 142/229 /content/road-signs-2/test/images/petunjuk-lokasi-pemberhentian-bus--66-_jpg.rf.32e85c2e4aa333fe2d59550a9a3b3216.jpg: 640x640 1 bus_stop, 17.3ms\n",
            "image 143/229 /content/road-signs-2/test/images/petunjuk-lokasi-pemberhentian-bus--67-_jpg.rf.c79b7f4c1c2313f203800de929518d5c.jpg: 640x640 1 bus_stop, 17.8ms\n",
            "image 144/229 /content/road-signs-2/test/images/petunjuk-lokasi-pemberhentian-bus--68-_jpg.rf.e6f6c3c0698e2d5ada997f483f61b3c8.jpg: 640x640 1 bus_stop, 18.0ms\n",
            "image 145/229 /content/road-signs-2/test/images/petunjuk-lokasi-pemberhentian-bus--69-_jpg.rf.da3803497987f4e0b07d97d04d69e479.jpg: 640x640 1 bus_stop, 17.3ms\n",
            "image 146/229 /content/road-signs-2/test/images/petunjuk-lokasi-pemberhentian-bus--7-_jpg.rf.e00aa7193e4f859d370831ef7f44ea2d.jpg: 640x640 1 bus_stop, 17.2ms\n",
            "image 147/229 /content/road-signs-2/test/images/petunjuk-lokasi-pemberhentian-bus--70-_jpg.rf.567b937df0a92f70112c69da177a295f.jpg: 640x640 1 bus_stop, 17.1ms\n",
            "image 148/229 /content/road-signs-2/test/images/petunjuk-lokasi-pemberhentian-bus--8-_jpg.rf.91521b195928d9a918ddfcf1c2729f8f.jpg: 640x640 1 bus_stop, 17.9ms\n",
            "image 149/229 /content/road-signs-2/test/images/petunjuk-lokasi-pemberhentian-bus--9-_jpg.rf.1b3dbdab65416459a80990196f4b0026.jpg: 640x640 1 bus_stop, 19.3ms\n",
            "image 150/229 /content/road-signs-2/test/images/petunjuk-lokasi-putar-balik--1-_jpg.rf.8827671c331ee3ec10a044af7e6ceab1.jpg: 640x640 1 u_turn, 17.9ms\n",
            "image 151/229 /content/road-signs-2/test/images/petunjuk-lokasi-putar-balik--10-_jpg.rf.a38132eb0b8afddd437204f84db514a0.jpg: 640x640 1 u_turn, 17.2ms\n",
            "image 152/229 /content/road-signs-2/test/images/petunjuk-lokasi-putar-balik--11-_jpg.rf.0df0872b3348e02ac3c95a3326b44cd5.jpg: 640x640 1 u_turn, 17.0ms\n",
            "image 153/229 /content/road-signs-2/test/images/petunjuk-lokasi-putar-balik--12-_jpg.rf.1e84701ceef4a3ce3a4416cc6ce7701e.jpg: 640x640 1 u_turn, 17.1ms\n",
            "image 154/229 /content/road-signs-2/test/images/petunjuk-lokasi-putar-balik--13-_jpg.rf.9bf40435d86521d1dea304beee3a67c2.jpg: 640x640 1 u_turn, 17.6ms\n",
            "image 155/229 /content/road-signs-2/test/images/petunjuk-lokasi-putar-balik--14-_jpg.rf.3f382c6b6319c470c880ac5db6f606fe.jpg: 640x640 1 u_turn, 17.7ms\n",
            "image 156/229 /content/road-signs-2/test/images/petunjuk-lokasi-putar-balik--15-_jpg.rf.0fd1d65a129522e97f8c33f41585595a.jpg: 640x640 1 u_turn, 28.7ms\n",
            "image 157/229 /content/road-signs-2/test/images/petunjuk-lokasi-putar-balik--16-_jpg.rf.32a2625072186e6e933b66872fc63dcd.jpg: 640x640 1 u_turn, 17.0ms\n",
            "image 158/229 /content/road-signs-2/test/images/petunjuk-lokasi-putar-balik--17-_jpg.rf.3bf3a7dc9fd4432b158275f211905977.jpg: 640x640 1 u_turn, 17.4ms\n",
            "image 159/229 /content/road-signs-2/test/images/petunjuk-lokasi-putar-balik--18-_jpg.rf.d5647530ae4ba2675409d262e0ea31f2.jpg: 640x640 1 u_turn, 17.5ms\n",
            "image 160/229 /content/road-signs-2/test/images/petunjuk-lokasi-putar-balik--19-_jpg.rf.5bd622fa0022930c7825c0aeaa607020.jpg: 640x640 1 u_turn, 17.4ms\n",
            "image 161/229 /content/road-signs-2/test/images/petunjuk-lokasi-putar-balik--2-_jpg.rf.a0429d5db861cf87ed7a9790047f45dc.jpg: 640x640 1 u_turn, 17.2ms\n",
            "image 162/229 /content/road-signs-2/test/images/petunjuk-lokasi-putar-balik--20-_jpg.rf.44142911d79086124732771e1a823a67.jpg: 640x640 1 u_turn, 19.2ms\n",
            "image 163/229 /content/road-signs-2/test/images/petunjuk-lokasi-putar-balik--21-_jpg.rf.05e081b195d61f625ce1a3b180fb49cf.jpg: 640x640 1 u_turn, 17.8ms\n",
            "image 164/229 /content/road-signs-2/test/images/petunjuk-lokasi-putar-balik--22-_jpg.rf.b7746c9bea98433f9840849e4471602c.jpg: 640x640 1 u_turn, 17.3ms\n",
            "image 165/229 /content/road-signs-2/test/images/petunjuk-lokasi-putar-balik--23-_jpg.rf.f7ac96fc325366ec93f3ff7e1ca13e12.jpg: 640x640 1 u_turn, 17.1ms\n",
            "image 166/229 /content/road-signs-2/test/images/petunjuk-lokasi-putar-balik--24-_jpg.rf.15051e09b60b7e696d94d1d8f8f97485.jpg: 640x640 1 u_turn, 17.3ms\n",
            "image 167/229 /content/road-signs-2/test/images/petunjuk-lokasi-putar-balik--25-_jpg.rf.635d963591b9bf2e49d8605537a43c5c.jpg: 640x640 1 u_turn, 17.8ms\n",
            "image 168/229 /content/road-signs-2/test/images/petunjuk-lokasi-putar-balik--26-_jpg.rf.e4d5c078cb3df9ae89fcdea901fcf3ab.jpg: 640x640 1 bus_stop, 17.3ms\n",
            "image 169/229 /content/road-signs-2/test/images/petunjuk-lokasi-putar-balik--27-_jpg.rf.c3214adff50b3c676c4e677ccae93d83.jpg: 640x640 1 u_turn, 18.7ms\n",
            "image 170/229 /content/road-signs-2/test/images/petunjuk-lokasi-putar-balik--28-_jpg.rf.4db5ae5955dbf7bc377c9415dee47942.jpg: 640x640 1 u_turn, 17.4ms\n",
            "image 171/229 /content/road-signs-2/test/images/petunjuk-lokasi-putar-balik--29-_jpg.rf.2717a388d7fe2f8809f3858f531df785.jpg: 640x640 1 u_turn, 17.8ms\n",
            "image 172/229 /content/road-signs-2/test/images/petunjuk-lokasi-putar-balik--3-_jpg.rf.f7d29991047cddc2c7e084aeaf015740.jpg: 640x640 1 u_turn, 17.8ms\n",
            "image 173/229 /content/road-signs-2/test/images/petunjuk-lokasi-putar-balik--30-_jpg.rf.d35c45528e3a5a376f81b0a3063765ae.jpg: 640x640 1 u_turn, 17.2ms\n",
            "image 174/229 /content/road-signs-2/test/images/petunjuk-lokasi-putar-balik--31-_jpg.rf.f75010b69d668a6c5e11a5e6e2856198.jpg: 640x640 1 u_turn, 17.1ms\n",
            "image 175/229 /content/road-signs-2/test/images/petunjuk-lokasi-putar-balik--32-_jpg.rf.62b53168e34c9f65298f3b0904908fd3.jpg: 640x640 1 u_turn, 17.3ms\n",
            "image 176/229 /content/road-signs-2/test/images/petunjuk-lokasi-putar-balik--33-_jpg.rf.ec9a0f832e92dc619ee707c7dc29a6b6.jpg: 640x640 1 u_turn, 17.7ms\n",
            "image 177/229 /content/road-signs-2/test/images/petunjuk-lokasi-putar-balik--34-_jpg.rf.920c0f5672a5c22df81f0424a14677d1.jpg: 640x640 1 u_turn, 17.1ms\n",
            "image 178/229 /content/road-signs-2/test/images/petunjuk-lokasi-putar-balik--35-_jpg.rf.89b80918ea6cc1b6a30278585d792ec7.jpg: 640x640 1 u_turn, 17.2ms\n",
            "image 179/229 /content/road-signs-2/test/images/petunjuk-lokasi-putar-balik--36-_jpg.rf.e05332076abf4ce52cb5cf422b119a28.jpg: 640x640 1 u_turn, 17.8ms\n",
            "image 180/229 /content/road-signs-2/test/images/petunjuk-lokasi-putar-balik--37-_jpg.rf.052d85b337b15119d310cd443b7e28c6.jpg: 640x640 1 u_turn, 17.8ms\n",
            "image 181/229 /content/road-signs-2/test/images/petunjuk-lokasi-putar-balik--38-_jpg.rf.571946b8838ba4d133acbe51a8715164.jpg: 640x640 1 u_turn, 17.1ms\n",
            "image 182/229 /content/road-signs-2/test/images/petunjuk-lokasi-putar-balik--39-_jpg.rf.c9bfeb708430403b6b0c0848e2bc9352.jpg: 640x640 1 u_turn, 17.4ms\n",
            "image 183/229 /content/road-signs-2/test/images/petunjuk-lokasi-putar-balik--4-_jpg.rf.993f693d56be28a4327965f789304d92.jpg: 640x640 1 u_turn, 17.8ms\n",
            "image 184/229 /content/road-signs-2/test/images/petunjuk-lokasi-putar-balik--40-_jpg.rf.a80070736b2a8fb898c5b96bffde6da9.jpg: 640x640 1 u_turn, 17.8ms\n",
            "image 185/229 /content/road-signs-2/test/images/petunjuk-lokasi-putar-balik--41-_jpg.rf.3243f30cddf9e3b96a8fd83802b22c27.jpg: 640x640 1 u_turn, 17.2ms\n",
            "image 186/229 /content/road-signs-2/test/images/petunjuk-lokasi-putar-balik--42-_jpg.rf.870292324025cd0e4ff3ad24721c0ed0.jpg: 640x640 1 u_turn, 17.2ms\n",
            "image 187/229 /content/road-signs-2/test/images/petunjuk-lokasi-putar-balik--43-_jpg.rf.eecdbb9988b1f2518b3f9b655fa3830a.jpg: 640x640 1 u_turn, 17.2ms\n",
            "image 188/229 /content/road-signs-2/test/images/petunjuk-lokasi-putar-balik--44-_jpg.rf.1f368dac6aac8a8f3af8585887ee10dc.jpg: 640x640 1 u_turn, 17.1ms\n",
            "image 189/229 /content/road-signs-2/test/images/petunjuk-lokasi-putar-balik--45-_jpg.rf.5b905637d1d94b1ec0e4b606c5b7359d.jpg: 640x640 1 u_turn, 17.4ms\n",
            "image 190/229 /content/road-signs-2/test/images/petunjuk-lokasi-putar-balik--46-_jpg.rf.371ad8c070c7f7d3dfdeda67e7fd86e4.jpg: 640x640 1 u_turn, 17.7ms\n",
            "image 191/229 /content/road-signs-2/test/images/petunjuk-lokasi-putar-balik--47-_jpg.rf.b84325da12bcd8723abee9d43510c4ec.jpg: 640x640 1 u_turn, 17.3ms\n",
            "image 192/229 /content/road-signs-2/test/images/petunjuk-lokasi-putar-balik--48-_jpg.rf.88b01a85928fba229e9b517bc79a5280.jpg: 640x640 1 u_turn, 17.1ms\n",
            "image 193/229 /content/road-signs-2/test/images/petunjuk-lokasi-putar-balik--49-_jpg.rf.2bd2c4573ba0f4b5216b96e2cb1c871e.jpg: 640x640 1 u_turn, 17.5ms\n",
            "image 194/229 /content/road-signs-2/test/images/petunjuk-lokasi-putar-balik--5-_jpg.rf.db1d0b64627b6880f02009f0a452f0cc.jpg: 640x640 1 u_turn, 17.8ms\n",
            "image 195/229 /content/road-signs-2/test/images/petunjuk-lokasi-putar-balik--50-_jpg.rf.ae6f4a421122d02da28e6e20671e0d95.jpg: 640x640 1 u_turn, 19.1ms\n",
            "image 196/229 /content/road-signs-2/test/images/petunjuk-lokasi-putar-balik--51-_jpg.rf.6357c6fac1cc9a6b164d48420610ef0c.jpg: 640x640 (no detections), 17.5ms\n",
            "image 197/229 /content/road-signs-2/test/images/petunjuk-lokasi-putar-balik--52-_jpg.rf.b7ef15fb5d37f27461f0ee8f1694b08b.jpg: 640x640 1 u_turn, 18.0ms\n",
            "image 198/229 /content/road-signs-2/test/images/petunjuk-lokasi-putar-balik--53-_jpg.rf.9838bf5d8d4a034ad64e069b34143bd4.jpg: 640x640 1 u_turn, 18.0ms\n",
            "image 199/229 /content/road-signs-2/test/images/petunjuk-lokasi-putar-balik--54-_jpg.rf.a055b42821f97db4b03d923f96eb73eb.jpg: 640x640 1 u_turn, 17.5ms\n",
            "image 200/229 /content/road-signs-2/test/images/petunjuk-lokasi-putar-balik--55-_jpg.rf.a9d1a3e3e43f9e30f0219091187b7a0f.jpg: 640x640 1 u_turn, 17.5ms\n",
            "image 201/229 /content/road-signs-2/test/images/petunjuk-lokasi-putar-balik--56-_jpg.rf.8c475ca25f6fd61ca9d10ba58226f722.jpg: 640x640 1 u_turn, 17.4ms\n",
            "image 202/229 /content/road-signs-2/test/images/petunjuk-lokasi-putar-balik--57-_jpg.rf.806981be289b1cdeecce5f18ffd6151a.jpg: 640x640 1 u_turn, 18.5ms\n",
            "image 203/229 /content/road-signs-2/test/images/petunjuk-lokasi-putar-balik--58-_jpg.rf.9832da33f7fe2f2e1584abc83fcee57e.jpg: 640x640 1 u_turn, 17.5ms\n",
            "image 204/229 /content/road-signs-2/test/images/petunjuk-lokasi-putar-balik--59-_jpg.rf.859dbac74a002f3b6650667a1cb23e9d.jpg: 640x640 1 u_turn, 18.4ms\n",
            "image 205/229 /content/road-signs-2/test/images/petunjuk-lokasi-putar-balik--6-_jpg.rf.0da3dd38ad6687be4f933f6480fb704d.jpg: 640x640 1 u_turn, 18.0ms\n",
            "image 206/229 /content/road-signs-2/test/images/petunjuk-lokasi-putar-balik--60-_jpg.rf.777a5d91d273d59665e6a4a628cfad54.jpg: 640x640 1 u_turn, 17.1ms\n",
            "image 207/229 /content/road-signs-2/test/images/petunjuk-lokasi-putar-balik--61-_jpg.rf.6a47dc311940b3c97a8a736da41ed3e6.jpg: 640x640 1 u_turn, 17.5ms\n",
            "image 208/229 /content/road-signs-2/test/images/petunjuk-lokasi-putar-balik--62-_jpg.rf.a1b46364e7f48f55748aa794b28103e7.jpg: 640x640 1 u_turn, 18.6ms\n",
            "image 209/229 /content/road-signs-2/test/images/petunjuk-lokasi-putar-balik--63-_jpg.rf.45080b8c8a3c19e899fe4b2f29e6beae.jpg: 640x640 1 u_turn, 17.0ms\n",
            "image 210/229 /content/road-signs-2/test/images/petunjuk-lokasi-putar-balik--64-_jpg.rf.5c8fcd6e6eee3cbfe65f1825ff46368a.jpg: 640x640 1 u_turn, 17.0ms\n",
            "image 211/229 /content/road-signs-2/test/images/petunjuk-lokasi-putar-balik--65-_jpg.rf.10d1a7fc333e80c8d574ae24296136a3.jpg: 640x640 1 u_turn, 18.5ms\n",
            "image 212/229 /content/road-signs-2/test/images/petunjuk-lokasi-putar-balik--66-_jpg.rf.b999d9a07627c78787568b07c4feb040.jpg: 640x640 1 u_turn, 17.6ms\n",
            "image 213/229 /content/road-signs-2/test/images/petunjuk-lokasi-putar-balik--67-_jpg.rf.efc46d9f0dd17ce056b9998dfbdd87f2.jpg: 640x640 1 u_turn, 17.5ms\n",
            "image 214/229 /content/road-signs-2/test/images/petunjuk-lokasi-putar-balik--68-_jpg.rf.adef41bb188b901e8aaf47fb97478fdb.jpg: 640x640 1 u_turn, 1 warning, 17.2ms\n",
            "image 215/229 /content/road-signs-2/test/images/petunjuk-lokasi-putar-balik--69-_jpg.rf.4d7555c31c18a4425ee8dc85741040af.jpg: 640x640 1 u_turn, 1 warning, 19.2ms\n",
            "image 216/229 /content/road-signs-2/test/images/petunjuk-lokasi-putar-balik--7-_jpg.rf.88b8f824e1be9f863da496c52de57dc2.jpg: 640x640 1 u_turn, 17.5ms\n",
            "image 217/229 /content/road-signs-2/test/images/petunjuk-lokasi-putar-balik--70-_jpg.rf.b13423e687d47fcc1cb11c8c68c22f02.jpg: 640x640 1 u_turn, 1 warning, 17.0ms\n",
            "image 218/229 /content/road-signs-2/test/images/petunjuk-lokasi-putar-balik--8-_jpg.rf.0c329687aa09ce4309ba9c99356338b7.jpg: 640x640 (no detections), 17.4ms\n",
            "image 219/229 /content/road-signs-2/test/images/petunjuk-lokasi-putar-balik--9-_jpg.rf.050539809aabdbf4113cf5f1158f449f.jpg: 640x640 1 u_turn, 17.6ms\n",
            "image 220/229 /content/road-signs-2/test/images/petunjuk-penyeberangan-pejalan-kaki--1-_jpg.rf.46f20d39ff13501356dde6b44934fdc8.jpg: 640x640 1 ped_crossing, 17.4ms\n",
            "image 221/229 /content/road-signs-2/test/images/petunjuk-penyeberangan-pejalan-kaki--10-_jpg.rf.ee25d40ee628979847e89896deff2d82.jpg: 640x640 1 ped_crossing, 17.0ms\n",
            "image 222/229 /content/road-signs-2/test/images/petunjuk-penyeberangan-pejalan-kaki--11-_jpg.rf.02961a7a13ef352477d14723e363327f.jpg: 640x640 1 ped_crossing, 17.9ms\n",
            "image 223/229 /content/road-signs-2/test/images/petunjuk-penyeberangan-pejalan-kaki--12-_jpg.rf.3801f919be7a3f6ade2fb12d5dbc8c14.jpg: 640x640 1 ped_crossing, 17.3ms\n",
            "image 224/229 /content/road-signs-2/test/images/petunjuk-penyeberangan-pejalan-kaki--13-_jpg.rf.b43b3aa8345f7945d1cfb7979bc8076f.jpg: 640x640 1 ped_crossing, 17.0ms\n",
            "image 225/229 /content/road-signs-2/test/images/petunjuk-penyeberangan-pejalan-kaki--14-_jpg.rf.e7c8ad18a53e5a1dd56815b54e51d376.jpg: 640x640 1 ped_crossing, 17.1ms\n",
            "image 226/229 /content/road-signs-2/test/images/petunjuk-penyeberangan-pejalan-kaki--15-_jpg.rf.8fecb6661555e5e0dc4580f27991b558.jpg: 640x640 1 ped_crossing, 17.3ms\n",
            "image 227/229 /content/road-signs-2/test/images/petunjuk-penyeberangan-pejalan-kaki--16-_jpg.rf.d389e8b8618f728ff24b644e8d3cd318.jpg: 640x640 1 ped_crossing, 17.5ms\n",
            "image 228/229 /content/road-signs-2/test/images/petunjuk-penyeberangan-pejalan-kaki--17-_jpg.rf.890dfa42585483723111e483e3e93a0e.jpg: 640x640 1 ped_crossing, 17.7ms\n",
            "image 229/229 /content/road-signs-2/test/images/petunjuk-penyeberangan-pejalan-kaki--18-_jpg.rf.a75022398298088ed83f4a5d11fa1664.jpg: 640x640 1 ped_crossing, 18.0ms\n",
            "Speed: 1.7ms preprocess, 18.2ms inference, 14.1ms postprocess per image at shape (1, 3, 640, 640)\n",
            "Results saved to \u001b[1mruns/detect/predict\u001b[0m\n",
            "217 labels saved to runs/detect/predict/labels\n",
            "💡 Learn more at https://docs.ultralytics.com/modes/predict\n"
          ]
        }
      ]
    },
    {
      "cell_type": "code",
      "source": [
        "a=\"/content/road-signs-2/test/images/perintah-pilihan-memasuki-salah-satu-jalur--64-_jpg.rf.ca52a211513d363023f41d44160b6c6a.jpg\""
      ],
      "metadata": {
        "id": "s37aeIbpQsmu"
      },
      "execution_count": null,
      "outputs": []
    },
    {
      "cell_type": "code",
      "source": [
        "from google.colab import drive\n",
        "drive.mount('/content/drive')"
      ],
      "metadata": {
        "id": "vnM-qlBsp__c"
      },
      "execution_count": null,
      "outputs": []
    },
    {
      "cell_type": "code",
      "source": [
        "a"
      ],
      "metadata": {
        "colab": {
          "base_uri": "https://localhost:8080/",
          "height": 53
        },
        "id": "qDfnYmEss4dm",
        "outputId": "241cf4cc-3cc6-4087-9067-93be01480cc0"
      },
      "execution_count": null,
      "outputs": [
        {
          "output_type": "execute_result",
          "data": {
            "text/plain": [
              "'/content/road-signs-2/test/images/perintah-pilihan-memasuki-salah-satu-jalur--64-_jpg.rf.ca52a211513d363023f41d44160b6c6a.jpg'"
            ],
            "application/vnd.google.colaboratory.intrinsic+json": {
              "type": "string"
            }
          },
          "metadata": {},
          "execution_count": 18
        }
      ]
    },
    {
      "cell_type": "code",
      "source": [],
      "metadata": {
        "id": "fsQ9Qzkws40j"
      },
      "execution_count": null,
      "outputs": []
    }
  ]
}